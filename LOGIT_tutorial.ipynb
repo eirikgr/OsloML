{
 "cells": [
  {
   "cell_type": "markdown",
   "metadata": {},
   "source": [
    "#  SUSY searches using Machine Learning  "
   ]
  },
  {
   "cell_type": "code",
   "execution_count": 1,
   "metadata": {},
   "outputs": [],
   "source": [
    "%matplotlib inline\n",
    "import numpy as np\n",
    "import sys\n",
    "import math\n",
    "from sklearn.preprocessing import Imputer\n",
    "import os.path\n",
    "import h5py\n",
    "import matplotlib.pyplot as plt"
   ]
  },
  {
   "cell_type": "code",
   "execution_count": 2,
   "metadata": {},
   "outputs": [
    {
     "name": "stderr",
     "output_type": "stream",
     "text": [
      "UsageError: Line magic function `%jsroot` not found.\n"
     ]
    }
   ],
   "source": [
    "from ROOT import gROOT, gDirectory, TFile, TEventList, TCut, TH1F, TH2F, TCanvas, kRed\n",
    "from root_numpy import tree2array, root2array\n",
    "%jsroot on"
   ]
  },
  {
   "cell_type": "markdown",
   "metadata": {},
   "source": [
    "We need to define som function to convert the ROOT nTuples into numpy arrays. One possibility is to read from the nTuple each time and make the numpy array. This can be done by using the following function (buildArraysFromROOT()). It takes as input a TTree, variables to print, selection criteria, which events to write and finally name of the selection."
   ]
  },
  {
   "cell_type": "code",
   "execution_count": 3,
   "metadata": {},
   "outputs": [],
   "source": [
    "def buildArraysFromROOT(tree,allowedFeatures,cut,skipEvents,maxEvents,name):\n",
    "    dataContainer = {}\n",
    "    featureNames = []\n",
    "    eventCounter = -1\n",
    "    gROOT.Reset()\n",
    "    \n",
    "    # Get branch names\n",
    "    for item in tree.GetListOfBranches():\n",
    "        featureName = item.GetName()\n",
    "        if featureName in allowedFeatures:\n",
    "            featureNames.append(featureName)\n",
    "            dataContainer[featureName] = []\n",
    "\n",
    "    # Build the event list\n",
    "    tcut = TCut(cut)\n",
    "    tree.Draw(\">>eventList\",tcut)\n",
    "    eventList = TEventList()\n",
    "    eventList = gDirectory.Get(\"eventList\")\n",
    "    nSelectedEvents = eventList.GetN()\n",
    "\n",
    "    # Event loop\n",
    "    for i in range(0,nSelectedEvents):\n",
    "        if (i < skipEvents):\n",
    "            continue\n",
    "        if (i % 100 == 0):\n",
    "            sys.stdout.write(\"Reading %s: %d%%   \\r\" % (tree.GetName(),100*i/(maxEvents+skipEvents)) )\n",
    "            sys.stdout.flush()\n",
    "        if i >= (maxEvents+skipEvents):\n",
    "            break\n",
    "        selectedEvNum = eventList.GetEntry(i)\n",
    "        tree.GetEntry(selectedEvNum)\n",
    "        for feature in featureNames:\n",
    "            dataContainer[feature].append(tree.__getattr__(feature))\n",
    "    sys.stdout.write(\"\\n\")\n",
    "\n",
    "    # Make the numpy arrays\n",
    "    outputArray = np.array([])\n",
    "    for feature in allowedFeatures:\n",
    "        column = dataContainer[feature]\n",
    "        feature_vector = np.asarray(column)\n",
    "        feature_vector = feature_vector.reshape(feature_vector.size,1)\n",
    "        if outputArray.shape[0]==0:\n",
    "            outputArray = feature_vector\n",
    "        else:\n",
    "            outputArray = np.concatenate((outputArray,feature_vector),axis=1)\n",
    "    imp = Imputer(missing_values=-999, strategy='mean', axis=0)\n",
    "    imp.fit(outputArray)\n",
    "    outputArray = imp.transform(outputArray)\n",
    "    print(name)\n",
    "    print(\"Events: \",outputArray.shape[0])\n",
    "    print(\"Features: \",outputArray.shape[1])\n",
    "    return outputArray"
   ]
  },
  {
   "cell_type": "markdown",
   "metadata": {},
   "source": [
    "But if one want to play around with the same input many times it is probably better to write the numpy array into a h5 file once and for all and then read from this file (much faster than converting the ntuple). This can be done in the following function. It takes as input the ROOT file, name of tree in the ROOT file, which variable to write, the name of the output (with directory), the cut to use and finally the chunk size (i.e. how much is stored in memory for each iteration of writing to file)"
   ]
  },
  {
   "cell_type": "code",
   "execution_count": 4,
   "metadata": {},
   "outputs": [],
   "source": [
    "def writeArrays(fileName, treeName, ntupFeatures, outputFileName = \"\", selection = \"\", chunkSize = 1000000):\n",
    "    # ROOT files\n",
    "    print \"Opening ROOT file...\"\n",
    "    if outputFileName:\n",
    "        outputName = outputFileName+\".h5\"\n",
    "    else:\n",
    "        outputName = fileName[:len(fileName)-5]+\".h5\"\n",
    "\n",
    "    inputFile = TFile(fileName)\n",
    "    inputTree = inputFile.Get(treeName)\n",
    "\n",
    "    # Chunks\n",
    "    totalEvents = inputTree.GetEntries()\n",
    "    nChunks = (totalEvents // chunkSize) + 1\n",
    "    remainderSize = totalEvents-(nChunks-1)*chunkSize\n",
    "\n",
    "    # Output file\n",
    "    with h5py.File(outputName, \"w\") as f:\n",
    "\n",
    "       # First chunk (numpy array)\n",
    "       print \"Processing events 0 to\",chunkSize\n",
    "       firstChunk = tree2array(inputTree,start=0,stop=chunkSize,step=1,selection=selection,branches=ntupFeatures)\n",
    "       n = 0\n",
    "       if firstChunk.shape[0] == 0: \n",
    "            while firstChunk.shape[0] == 0:\n",
    "                firstChunk = tree2array(inputTree,start=chunkSize*n,\n",
    "                                            stop=chunkSize*(n+1),step=1,selection=selection,branches=ntupFeatures)\n",
    "                n += 1\n",
    "                print \"INFO \\t Chunk is still empty, trying for the %i%s time \"%(n,\"nd\" if n == 2 else (\"rd\" if n == 3 else (\"st\" if n == 1 else \"th\")))\n",
    "\n",
    "       # Break into columns\n",
    "       firstChunk = np.array(firstChunk[:].tolist())\n",
    "        \n",
    "       #print f.attrs.keys()\n",
    "       #return \n",
    "       # Output data structure\n",
    "       dtype = firstChunk.dtype\n",
    "       row_count = firstChunk.shape[0]\n",
    "       maxshape = (None,) + firstChunk.shape[1:]\n",
    "       dset = f.create_dataset(treeName, shape=firstChunk.shape, maxshape=maxshape,chunks=firstChunk.shape, dtype=dtype)\n",
    "       # Write the first chunk \n",
    "       dset[:] = firstChunk\n",
    "       print type(dset)\n",
    "       print dset.shape\n",
    "       #print dset.attrs.create()\n",
    "\n",
    "       # Loop over chunks\n",
    "       totalEvents_written = firstChunk.shape[0]\n",
    "       for chunk in range(chunkSize if n == 0 else chunkSize*n,nChunks*chunkSize,chunkSize):\n",
    "          start = chunk\n",
    "          stop = start+chunkSize \n",
    "          if (stop>totalEvents): stop = totalEvents \n",
    "          print \"Processing events \",start,\" to \",stop      \n",
    "          # Extraction of data in numpy form, chunk by chunk\n",
    "          chunk = tree2array(inputTree,\n",
    "                             start=start,\n",
    "                             stop=stop,\n",
    "                             step=1,\n",
    "                             selection = selection,\n",
    "                             branches=ntupFeatures)\n",
    "\n",
    "          totalEvents_written += chunk.shape[0]\n",
    "          # Break up into columns\n",
    "          chunk = np.array(chunk[:].tolist())\n",
    "\n",
    "          # Resize the dataset to accommodate the next chunk of rows\n",
    "          dset.resize(row_count + chunk.shape[0], axis=0)\n",
    "\n",
    "          # Write the next chunk\n",
    "          dset[row_count:] = chunk\n",
    "\n",
    "          # Increment the row count\n",
    "          row_count += chunk.shape[0]\n",
    "\n",
    "       # store the variable names for later\n",
    "       f.attrs.create('var_names',ntupFeatures)\n",
    "        \n",
    "    print \"Number of events            = \",totalEvents\n",
    "    print \"Number of events written    = \",totalEvents_written\n",
    "    print \"Number of features          = \",len(ntupFeatures)\n",
    "    print \"Output file name            = \",outputName"
   ]
  },
  {
   "cell_type": "markdown",
   "metadata": {},
   "source": [
    "Next two cells open the root file with an retrieves the TTree. Then we get the name of all the variables available in the nTuple."
   ]
  },
  {
   "cell_type": "code",
   "execution_count": 5,
   "metadata": {},
   "outputs": [],
   "source": [
    "# Input files and TTrees\n",
    "indir = \"/scratch/eirikgr/susy-neuralnetworks/\"\n",
    "inputFile = TFile(indir+\"TMVA_tree.root\");\n",
    "tree = inputFile.Get(\"TMVA_tree\")\n",
    "tree.SetDirectory(0)\n",
    "inputFile.Close()\n",
    "#inputFile = TFile(\"small.root\");\n",
    "#tree = inputFile.Get(\"TMVA_tree\")"
   ]
  },
  {
   "cell_type": "code",
   "execution_count": 6,
   "metadata": {},
   "outputs": [
    {
     "name": "stdout",
     "output_type": "stream",
     "text": [
      "List of the 42 variables in this ntuple: lep_pT1, lep_pT2, lep_E1, lep_E2, lep_eta1, lep_eta2, lep_z01, lep_z02, lep_d01, lep_d02, lep_phi1, lep_phi2, lep_d0sig1, lep_d0sig2, lep_z0sintheta1, lep_z0sintheta2, dphi_lep1_met, dphi_lep2_met, lep1_costheta, lep2_costheta, dphi_lep1_lep2, dR_lep1_lep2, hT1, hT2, hT3, hT4, hTmiss, alphaT, mt, met_phi, met, met_x, met_y, mt2, mll, metrel, njet, bnjet, wgt, dsid, isSignal, isBkg\n"
     ]
    }
   ],
   "source": [
    "susyFeaturesNtup = []\n",
    "listofbr = tree.GetListOfBranches().Clone()\n",
    "listofbr.SetOwner(False)\n",
    "#listofbr.Sort()\n",
    "for br in listofbr:\n",
    "    susyFeaturesNtup.append(br.GetName())\n",
    "print \"List of the %i variables in this ntuple: %s\" %(len(susyFeaturesNtup),\", \".join(susyFeaturesNtup))"
   ]
  },
  {
   "cell_type": "markdown",
   "metadata": {},
   "source": [
    "Let's convert the nTuple to a numpy array and write everything to a file. This will take a while:"
   ]
  },
  {
   "cell_type": "code",
   "execution_count": null,
   "metadata": {},
   "outputs": [],
   "source": [
    "writeArrays(indir+\"TMVA_tree.root\", \"TMVA_tree\", \n",
    "            susyFeaturesNtup, \"/scratch3/eirikgr/ML_files/variables_all_bkg\",\"isSignal==0\", 100000)\n",
    "writeArrays(indir+\"TMVA_tree.root\", \"TMVA_tree\", \n",
    "            susyFeaturesNtup, \"/scratch3/eirikgr/ML_files/variables_all_sig\",\"isSignal==1\", 100000)"
   ]
  },
  {
   "cell_type": "markdown",
   "metadata": {},
   "source": [
    "# Testing some features on a small file"
   ]
  },
  {
   "cell_type": "code",
   "execution_count": null,
   "metadata": {},
   "outputs": [],
   "source": [
    "#eventFile_bkg.close()\n",
    "#eventFile_sig.close()\n",
    "writeArrays(\"small.root\", \"TMVA_tree\", \n",
    "            susyFeaturesNtup, \"/scratch3/eirikgr/ML_files/variables_test_bkg\",\"isSignal==0\", 100)\n",
    "writeArrays(\"small.root\", \"TMVA_tree\", \n",
    "            susyFeaturesNtup, \"/scratch3/eirikgr/ML_files/variables_test_sig\",\"isSignal==1\", 100)"
   ]
  },
  {
   "cell_type": "markdown",
   "metadata": {},
   "source": [
    "Please note that some of these variables should not be used as discriminating variables (e.g. using the isSignal variable would not be fair to include :-)). Also the wgt, massSplit, dsid and isBkg should not be used. We will remove these later, before we start using the data. "
   ]
  },
  {
   "cell_type": "code",
   "execution_count": null,
   "metadata": {},
   "outputs": [],
   "source": [
    "X = buildArraysFromROOT(tree,susyFeaturesNtup,\"\",0,100,\"ALL\")\n",
    "X[0]\n",
    "eventFile = h5py.File(\"/scratch3/eirikgr/ML_files/variables_test.h5\",\"r\")\n",
    "print eventFile.attrs['var_names']\n",
    "X_test = eventFile[\"TMVA_tree\"]\n",
    "#susyFeaturesNtup.remove(\"massSplit\")\n",
    "#susyFeaturesNtup.remove(\"wgt\")\n",
    "#susyFeaturesNtup.remove(\"isBkg\")\n",
    "#susyFeaturesNtup.remove(\"dsid\")\n",
    "#eventFile.close()\n",
    "print X_test[:].shape\n",
    "toplot = X_test[:,49]\n",
    "print toplot.shape\n",
    "print len(toplot)"
   ]
  },
  {
   "cell_type": "code",
   "execution_count": null,
   "metadata": {},
   "outputs": [],
   "source": [
    "plt.hist(toplot,bins=100);\n",
    "plt.xlim(0,4);"
   ]
  },
  {
   "cell_type": "markdown",
   "metadata": {},
   "source": [
    "Just for fun, before we start playing, let's plot the transverse momentum of the hardest lepton (i.e. lepton with the highest transverse momentum in the event) in each event."
   ]
  },
  {
   "cell_type": "code",
   "execution_count": null,
   "metadata": {
    "scrolled": false
   },
   "outputs": [],
   "source": [
    "canvas = TCanvas(\"canvas\",\"canvas\",1)\n",
    "h_lep1_pt = TH1F(\"h_lep1_pt\",\"p_{T}^{lep1};p_{T} [GeV];Number of entries\",200,0,2000)\n",
    "tree.Draw(\"lep_pT1/1000>>h_lep1_pt\")\n",
    "h_lep1_pt.Draw(\"hist\")\n",
    "canvas.SetLogy()\n",
    "canvas.Draw()"
   ]
  },
  {
   "cell_type": "markdown",
   "metadata": {},
   "source": [
    "The nTuple contains a mix of signal and background samples. These can be identified by plotting the isSignal variable (equals 1 if event is signal, 0 if background)"
   ]
  },
  {
   "cell_type": "code",
   "execution_count": null,
   "metadata": {},
   "outputs": [],
   "source": [
    "canvas_2 = TCanvas(\"canvas_2\",\"canvas_2\",1)\n",
    "h_isSignal = TH1F(\"h_isSignal\",\"isSignal;;Number of entries\",2,0,2)\n",
    "h_isSignal.GetXaxis().SetBinLabel(1,\"Background\")\n",
    "h_isSignal.GetXaxis().SetBinLabel(2,\"SUSY signal\")\n",
    "tree.Draw(\"isSignal>>h_isSignal\")\n",
    "h_isSignal.Draw(\"hist\")\n",
    "canvas_2.SetLogy()\n",
    "canvas_2.Draw()"
   ]
  },
  {
   "cell_type": "markdown",
   "metadata": {},
   "source": [
    "There are several signal samples in the nTuple (different SUSY scenarios). These are simplified models which means that they are basically simulations of a single feynman grap (see <a href=https://cds.cern.ch/record/2233683/files/ATL-COM-PHYS-2016-1673.pdf>here</a> for more details). The nTuple used here all signal samples are of the following kind\n",
    "<img src=\"https://atlas.web.cern.ch/Atlas/GROUPS/PHYSICS/SUSY/FeynmanGraphs/C1C1-llvvN1N1-slsnu.png\",width=160,height=160>\n",
    "where the only difference between the various signal models is the mass difference between the chargino and the neutralino. Let's look at the values for the mass splitting for the available signal models"
   ]
  },
  {
   "cell_type": "code",
   "execution_count": null,
   "metadata": {},
   "outputs": [],
   "source": [
    "canvas_3 = TCanvas(\"canvas_3\",\"canvas_3\",1)\n",
    "h_massSplit = TH1F(\"h_massSplit\",\"M(#chi_{1})-M(#chi_{0});Mass split [GeV];Number of entries\",400,0,800)\n",
    "tree.Draw(\"massSplit>>h_massSplit\", \"isSignal==1\")\n",
    "h_massSplit.Draw(\"hist\")\n",
    "#canvas_3.Draw()\n",
    "canvas_8 = TCanvas(\"canvas_8\",\"canvas_8\",1)\n",
    "h_massSplit_dsid = TH2F(\"h_massSplit_dsid\",\"M(#chi_{1}^{#pm})-M(#chi_{1}^{0});Mass split [GeV];Data set ID\",400,0,800,22,392500,392521)\n",
    "tree.Draw(\"dsid:massSplit>>h_massSplit_dsid\", \"isSignal==1\")\n",
    "h_massSplit_dsid.Draw(\"\")\n",
    "canvas_8.Draw()"
   ]
  },
  {
   "cell_type": "markdown",
   "metadata": {},
   "source": [
    "Define how to divide background from signal"
   ]
  },
  {
   "cell_type": "code",
   "execution_count": null,
   "metadata": {},
   "outputs": [],
   "source": [
    "# Selections\n",
    "cutBackground = \"isSignal==0\"\n",
    "cutSignal = \"isSignal==1\""
   ]
  },
  {
   "cell_type": "markdown",
   "metadata": {},
   "source": [
    "We also need to single out the event weight which makes sure all the background samples are scaled to the same luminosity"
   ]
  },
  {
   "cell_type": "code",
   "execution_count": null,
   "metadata": {},
   "outputs": [],
   "source": [
    "susyWeightsNtup = [ \"wgt\" ]\n",
    "susyIdentifierNtup = [ \"isSignal\" ]"
   ]
  },
  {
   "cell_type": "code",
   "execution_count": null,
   "metadata": {},
   "outputs": [],
   "source": [
    "# Automatic numbers of event \n",
    "tcut = TCut(cutSignal)\n",
    "tree.Draw(\">>eventList\",tcut)\n",
    "eventList = TEventList()\n",
    "eventList = gDirectory.Get(\"eventList\")\n",
    "nSignalEvents = eventList.GetN()/2\n",
    "#nSignalEvents = 20000\n",
    "nBackgroundEvents = nSignalEvents\n",
    "print \"Will use %i events for signal and %i for background\" %(nSignalEvents,nBackgroundEvents)"
   ]
  },
  {
   "cell_type": "code",
   "execution_count": null,
   "metadata": {},
   "outputs": [],
   "source": [
    "#canvas_4 = TCanvas(\"canvas_4\",\"canvas_4\",1)\n",
    "#h_MET_signal = TH1F(\"h_MET_signal\",\"Missing Transverse Energy;Missing Transverse Energy [GeV];Number of entries\",500,0,1000)\n",
    "#h_MET_backgr = TH1F(\"h_MET_backgr\",\"Missing Transverse Energy;Missing Transverse Energy [GeV];Number of entries\",500,0,1000)\n",
    "#tree.Draw(\"met/1000.>>h_MET_signal\", cutSignal)\n",
    "#tree.Draw(\"met/1000.>>h_MET_backgr\", cutBackground)\n",
    "#h_MET_signal.SetLineColor(kRed)\n",
    "#h_MET_signal.Scale(1./h_MET_signal.Integral())\n",
    "#h_MET_backgr.Scale(1./h_MET_backgr.Integral())\n",
    "#h_MET_backgr.Draw(\"hist\")\n",
    "#h_MET_signal.Draw(\"hist same\")\n",
    "#canvas_4.SetLogy()\n",
    "#canvas_4.Draw()"
   ]
  },
  {
   "cell_type": "code",
   "execution_count": null,
   "metadata": {},
   "outputs": [],
   "source": [
    "#canvas_5 = TCanvas(\"canvas_5\",\"canvas_5\",1)\n",
    "#h_MEFF_MET_signal = TH2F(\"h_MEFF_MET_signal\",\"Missing Transverse Energy vs. M_{eff};Missing Transverse Energy [GeV];M_{eff} [GeV]\",500,0,1000,500,0,1000)\n",
    "#h_MEFF_MET_backgr = TH2F(\"h_MEFF_MET_backgr\",\"Missing Transverse Energy vs. M_{eff};Missing Transverse Energy [GeV];M_{eff} [GeV]\",500,0,1000,500,0,1000)\n",
    "#tree.Draw(\"met/1000.:meff/1000.>>h_MEFF_MET_signal\", cutSignal)\n",
    "#tree.Draw(\"met/1000.:meff/1000.>>h_MEFF_MET_backgr\", cutBackground)\n",
    "#h_MET_signal.SetMarkerColor(kRed)\n",
    "#h_MET_signal.Scale(1./h_MET_signal.Integral())\n",
    "#h_MET_backgr.Scale(1./h_MET_backgr.Integral())\n",
    "#h_MET_backgr.Draw(\"\")\n",
    "#h_MET_signal.Draw(\"\")\n",
    "#canvas_5.SetLogy()\n",
    "#canvas_5.Draw()"
   ]
  },
  {
   "cell_type": "code",
   "execution_count": null,
   "metadata": {
    "scrolled": true
   },
   "outputs": [],
   "source": [
    "# Build data arrays\n",
    "# Background\n",
    "X_train_bg = buildArraysFromROOT(tree,susyFeaturesNtup,cutBackground,0,nBackgroundEvents,\"TRAINING SAMPLE (background)\")\n",
    "X_test_bg = buildArraysFromROOT(tree,susyFeaturesNtup,cutBackground,nBackgroundEvents,nBackgroundEvents,\"TESTING SAMPLE (background)\")\n",
    "\n",
    "# Signal\n",
    "X_train_sig = buildArraysFromROOT(tree,susyFeaturesNtup,cutSignal,0,nSignalEvents,\"TRAINING SAMPLE (signal)\")\n",
    "X_test_sig = buildArraysFromROOT(tree,susyFeaturesNtup,cutSignal,nSignalEvents,nSignalEvents,\"TESTING SAMPLE (signal)\")"
   ]
  },
  {
   "cell_type": "code",
   "execution_count": null,
   "metadata": {},
   "outputs": [],
   "source": [
    "writeArrays(, selection = \"\", chunkSize = 1000000)\n",
    "X_train_bg.shape"
   ]
  },
  {
   "cell_type": "markdown",
   "metadata": {
    "collapsed": true
   },
   "source": [
    "# Logistic Regression"
   ]
  },
  {
   "cell_type": "code",
   "execution_count": 7,
   "metadata": {},
   "outputs": [],
   "source": [
    "from sklearn import linear_model\n",
    "from sklearn.metrics import accuracy_score, precision_score, recall_score"
   ]
  },
  {
   "cell_type": "code",
   "execution_count": 8,
   "metadata": {},
   "outputs": [],
   "source": [
    "#writeArrays(\"/mn/felt/u1/eirikgr/Downloads/TMVA_tree.root\", \"TMVA_tree\", \n",
    "            #susyFeaturesNtup, \"/scratch3/eirikgr/ML_files/variables_background\",cutBackground, 1000000)\n",
    "#X_bkg = buildArraysFromROOT(tree,susyFeaturesNtup,cutBackground,0,50,\"Variable\")\n",
    "#Y_bkg = buildArraysFromROOT(tree,susyIdentifierNtup,cutBackground,0,50,\"Signal or no signal\")\n",
    "#X_sig = buildArraysFromROOT(tree,susyFeaturesNtup,cutSignal,0,50,\"Variable\")\n",
    "#Y_sig = buildArraysFromROOT(tree,susyIdentifierNtup,cutSignal,0,50,\"Signal or no signal\")"
   ]
  },
  {
   "cell_type": "code",
   "execution_count": 9,
   "metadata": {},
   "outputs": [],
   "source": [
    "#writeArrays(\"/mn/felt/u1/eirikgr/Downloads/TMVA_tree.root\", \"TMVA_tree\", \n",
    "            #susyFeaturesNtup, \"/scratch3/eirikgr/ML_files/variables_signal\",cutSignal, 100000)"
   ]
  },
  {
   "cell_type": "markdown",
   "metadata": {},
   "source": [
    "Now we're ready to read the numpy array from file and remove the variables we don't want to include as disriminating variables in our fit. "
   ]
  },
  {
   "cell_type": "code",
   "execution_count": 38,
   "metadata": {},
   "outputs": [
    {
     "name": "stdout",
     "output_type": "stream",
     "text": [
      "Removing variable dsid       in index 39\n",
      "Did not find variable massSplit in ntuple\n",
      "Removing variable isSignal   in index 40\n",
      "Removing variable isBkg      in index 41\n",
      "Removing variable wgt        in index 38\n",
      "\n",
      "\n",
      "There are a total of 2252531 events in the background nTuple\n",
      "There are a total of 245201 events in the signal nTuple\n",
      "\n",
      "\n",
      "Backgrounds are now stored in X_bkg with 2252531 entries and 38 variables\n",
      "Signals     are now stored in X_sig with 245201 entries and 38 variables\n",
      "\n",
      "\n",
      "Target  for background is now stored in Y_bkg with 2252531 entries\n",
      "Weights for background are now stored in W_bkg with 2252531 entries\n",
      "\n",
      "\n",
      "Target  for signals is now stored in Y_sig with 245201 entries\n",
      "Weights for signals are now stored in W_sig with 245201 entries\n"
     ]
    }
   ],
   "source": [
    "#backgroundFile = h5py.File(\"/scratch3/eirikgr/ML_files/variables_background.h5\",\"r\")\n",
    "#signalFile     = h5py.File(\"/scratch3/eirikgr/ML_files/variables_signal.h5\",\"r\")\n",
    "#eventFile = h5py.File(\"/scratch3/eirikgr/ML_files/variables_all.h5\",\"r\")\n",
    "#print type(eventFile)\n",
    "eventFile_bkg = h5py.File(\"/scratch3/eirikgr/ML_files/variables_all_bkg.h5\",\"r\")\n",
    "eventFile_sig = h5py.File(\"/scratch3/eirikgr/ML_files/variables_all_sig.h5\",\"r\")\n",
    "attributes = eventFile_bkg.attrs[\"var_names\"]\n",
    "#print attributes.shape\n",
    "susyFeaturesExclude = {}\n",
    "susyFeaturesExclude[\"massSplit\"] = -1\n",
    "susyFeaturesExclude[\"wgt\"] = -1\n",
    "susyFeaturesExclude[\"isBkg\"] = -1\n",
    "susyFeaturesExclude[\"isSignal\"] = -1\n",
    "susyFeaturesExclude[\"dsid\"] = -1\n",
    "#print itemindex[0][0]\n",
    "delitems = []\n",
    "delitems_agr = []\n",
    "for sfe in susyFeaturesExclude.keys():\n",
    "    itemindex = np.where(attributes==sfe)\n",
    "    if not len(itemindex[0]):\n",
    "        print \"Did not find variable %s in ntuple\" %sfe\n",
    "        continue\n",
    "    print \"Removing variable %-10s in index %i\" %(sfe,itemindex[0][0])\n",
    "    delitems.append(itemindex[0][0])\n",
    "    susyFeaturesExclude[sfe] = itemindex[0][0]\n",
    "for sfe in susyFeaturesNtup:\n",
    "    itemindex = np.where(attributes==sfe)\n",
    "    if not sfe in [\"met\",\"mt2\"]:\n",
    "        delitems_agr.append(itemindex[0][0])\n",
    "# get the full numpy array\n",
    "all_var_bkg = eventFile_bkg[\"TMVA_tree\"]\n",
    "all_var_sig = eventFile_sig[\"TMVA_tree\"]\n",
    "print \"\\n\"\n",
    "print \"There are a total of %i events in the background nTuple\" %(all_var_bkg.shape[0])\n",
    "print \"There are a total of %i events in the signal nTuple\" %(all_var_sig.shape[0])\n",
    "print \"\\n\"\n",
    "# get the signal/no-signal vector\n",
    "Y_bkg = all_var_bkg[:,susyFeaturesExclude[\"isSignal\"]]\n",
    "Y_sig = all_var_sig[:,susyFeaturesExclude[\"isSignal\"]]\n",
    "# get the weights\n",
    "W_bkg = all_var_bkg[:,susyFeaturesExclude[\"wgt\"]]\n",
    "W_sig = all_var_sig[:,susyFeaturesExclude[\"wgt\"]]\n",
    "# get the numpy array without the unwanted variables\n",
    "X_bkg = np.delete(all_var_bkg,delitems,1)\n",
    "X_sig = np.delete(all_var_sig,delitems,1)\n",
    "\n",
    "print \"Backgrounds are now stored in X_bkg with %i entries and %i variables\" %(X_bkg.shape[0],X_bkg.shape[1])\n",
    "print \"Signals     are now stored in X_sig with %i entries and %i variables\" %(X_sig.shape[0],X_sig.shape[1])\n",
    "print \"\\n\"\n",
    "print \"Target  for background is now stored in Y_bkg with %i entries\" %(Y_bkg.shape[0])\n",
    "print \"Weights for background are now stored in W_bkg with %i entries\" %(W_bkg.shape[0])\n",
    "print \"\\n\"\n",
    "print \"Target  for signals is now stored in Y_sig with %i entries\" %(Y_sig.shape[0])\n",
    "print \"Weights for signals are now stored in W_sig with %i entries\" %(W_sig.shape[0])"
   ]
  },
  {
   "cell_type": "code",
   "execution_count": 39,
   "metadata": {},
   "outputs": [
    {
     "data": {
      "text/plain": [
       "[0,\n",
       " 1,\n",
       " 2,\n",
       " 3,\n",
       " 4,\n",
       " 5,\n",
       " 6,\n",
       " 7,\n",
       " 8,\n",
       " 9,\n",
       " 10,\n",
       " 11,\n",
       " 12,\n",
       " 13,\n",
       " 14,\n",
       " 15,\n",
       " 16,\n",
       " 17,\n",
       " 18,\n",
       " 19,\n",
       " 20,\n",
       " 21,\n",
       " 22,\n",
       " 23,\n",
       " 24,\n",
       " 25,\n",
       " 26,\n",
       " 27,\n",
       " 28,\n",
       " 29,\n",
       " 31,\n",
       " 32,\n",
       " 34,\n",
       " 35,\n",
       " 36,\n",
       " 37,\n",
       " 38,\n",
       " 39,\n",
       " 40,\n",
       " 41]"
      ]
     },
     "execution_count": 39,
     "metadata": {},
     "output_type": "execute_result"
    }
   ],
   "source": [
    "delitems_agr"
   ]
  },
  {
   "cell_type": "markdown",
   "metadata": {},
   "source": [
    "Get the number of events for each data set ID (dsid). We want to train on all the various backgrounds and signal."
   ]
  },
  {
   "cell_type": "code",
   "execution_count": 11,
   "metadata": {},
   "outputs": [
    {
     "name": "stdout",
     "output_type": "stream",
     "text": [
      "Unwanted variable dsid       in index 39\n",
      "Did not find variable massSplit in ntuple\n",
      "Unwanted variable isSignal   in index 40\n",
      "Unwanted variable isBkg      in index 41\n",
      "Unwanted variable wgt        in index 38\n",
      "\n",
      "\n",
      "There are a total of 2252531 events in the background nTuple\n",
      "There are a total of 245201 events in the signal nTuple\n",
      "\n",
      "\n"
     ]
    }
   ],
   "source": [
    "if not type(eventFile_bkg) is h5py._hl.files.File:\n",
    "    eventFile_bkg = h5py.File(\"/scratch3/eirikgr/ML_files/variables_all_bkg.h5\",\"r\")\n",
    "if not type(eventFile_sig) is h5py._hl.files.File:\n",
    "    eventFile_sig = h5py.File(\"/scratch3/eirikgr/ML_files/variables_all_sig.h5\",\"r\")\n",
    "attributes = eventFile_sig.attrs[\"var_names\"]\n",
    "#print attributes.shape\n",
    "susyFeaturesExclude = {}\n",
    "susyFeaturesExclude[\"massSplit\"] = -1\n",
    "susyFeaturesExclude[\"wgt\"] = -1\n",
    "susyFeaturesExclude[\"isBkg\"] = -1\n",
    "susyFeaturesExclude[\"isSignal\"] = -1\n",
    "susyFeaturesExclude[\"dsid\"] = -1\n",
    "#print itemindex[0][0]\n",
    "delitems = []\n",
    "for sfe in susyFeaturesExclude.keys():\n",
    "    itemindex = np.where(attributes==sfe)\n",
    "    if not len(itemindex[0]):\n",
    "        print \"Did not find variable %s in ntuple\" %sfe\n",
    "        continue\n",
    "    print \"Unwanted variable %-10s in index %i\" %(sfe,itemindex[0][0])\n",
    "    delitems.append(itemindex[0][0])\n",
    "    susyFeaturesExclude[sfe] = itemindex[0][0]\n",
    "# get the full numpy array\n",
    "all_var_bkg = eventFile_bkg[\"TMVA_tree\"]\n",
    "all_var_sig = eventFile_sig[\"TMVA_tree\"]\n",
    "print \"\\n\"\n",
    "print \"There are a total of %i events in the background nTuple\" %(all_var_bkg.shape[0])\n",
    "print \"There are a total of %i events in the signal nTuple\" %(all_var_sig.shape[0])\n",
    "print \"\\n\""
   ]
  },
  {
   "cell_type": "markdown",
   "metadata": {},
   "source": [
    "Let's produce the data set to train on. Should be a mix of backgrounds and signals. "
   ]
  },
  {
   "cell_type": "code",
   "execution_count": 12,
   "metadata": {},
   "outputs": [],
   "source": [
    "rBackgroundEvents = 0.2\n",
    "rSignalEvents = 0.2\n",
    "X_train_bkg = {}\n",
    "X_train_sig = {}\n",
    "X_test_bkg  = {}\n",
    "X_test_sig  = {}\n",
    "W_train_bkg = {}\n",
    "W_train_sig = {}\n",
    "W_test_bkg  = {}\n",
    "W_test_sig  = {}\n",
    "counts_dsids = {}"
   ]
  },
  {
   "cell_type": "code",
   "execution_count": 13,
   "metadata": {},
   "outputs": [
    {
     "name": "stdout",
     "output_type": "stream",
     "text": [
      "There are 260 unique data sets in the signal and background samples\n",
      "Doing dsid 0/260\n",
      "Doing dsid 1/260\n",
      "Doing dsid 2/260\n",
      "Doing dsid 3/260\n",
      "Doing dsid 4/260\n",
      "Doing dsid 5/260\n",
      "Doing dsid 6/260\n",
      "Doing dsid 7/260\n",
      "Doing dsid 8/260\n",
      "Doing dsid 9/260\n",
      "Doing dsid 10/260\n",
      "Doing dsid 11/260\n",
      "Doing dsid 12/260\n",
      "Doing dsid 13/260\n",
      "Doing dsid 14/260\n",
      "Doing dsid 15/260\n",
      "Doing dsid 16/260\n",
      "Doing dsid 17/260\n",
      "Doing dsid 18/260\n",
      "Doing dsid 19/260\n",
      "Doing dsid 20/260\n",
      "Doing dsid 21/260\n",
      "Doing dsid 22/260\n",
      "Doing dsid 23/260\n",
      "Doing dsid 24/260\n",
      "Doing dsid 25/260\n",
      "Doing dsid 26/260\n",
      "Doing dsid 27/260\n",
      "Doing dsid 28/260\n",
      "Doing dsid 29/260\n",
      "Doing dsid 30/260\n",
      "Doing dsid 31/260\n",
      "Doing dsid 32/260\n",
      "Doing dsid 33/260\n",
      "Doing dsid 34/260\n",
      "Doing dsid 35/260\n",
      "Doing dsid 36/260\n",
      "Doing dsid 37/260\n",
      "Doing dsid 38/260\n",
      "Doing dsid 39/260\n",
      "Doing dsid 40/260\n",
      "Doing dsid 41/260\n",
      "Doing dsid 42/260\n",
      "Doing dsid 43/260\n",
      "Skipping 361300 since only 4 events\n",
      "Doing dsid 43/260\n",
      "Doing dsid 44/260\n",
      "Doing dsid 45/260\n",
      "Skipping 361303 since only 4 events\n",
      "Doing dsid 45/260\n",
      "Doing dsid 46/260\n",
      "Doing dsid 47/260\n",
      "Doing dsid 48/260\n",
      "Doing dsid 49/260\n",
      "Doing dsid 50/260\n",
      "Doing dsid 51/260\n",
      "Doing dsid 52/260\n",
      "Doing dsid 53/260\n",
      "Doing dsid 54/260\n",
      "Doing dsid 55/260\n",
      "Doing dsid 56/260\n",
      "Doing dsid 57/260\n",
      "Doing dsid 58/260\n",
      "Doing dsid 59/260\n",
      "Doing dsid 60/260\n",
      "Doing dsid 61/260\n",
      "Doing dsid 62/260\n",
      "Doing dsid 63/260\n",
      "Doing dsid 64/260\n",
      "Doing dsid 65/260\n",
      "Doing dsid 66/260\n",
      "Doing dsid 67/260\n",
      "Doing dsid 68/260\n",
      "Doing dsid 69/260\n",
      "Doing dsid 70/260\n",
      "Doing dsid 71/260\n",
      "Doing dsid 72/260\n",
      "Doing dsid 73/260\n",
      "Doing dsid 74/260\n",
      "Doing dsid 75/260\n",
      "Doing dsid 76/260\n",
      "Doing dsid 77/260\n",
      "Doing dsid 78/260\n",
      "Doing dsid 79/260\n",
      "Doing dsid 80/260\n",
      "Doing dsid 81/260\n",
      "Doing dsid 82/260\n",
      "Doing dsid 83/260\n",
      "Doing dsid 84/260\n",
      "Doing dsid 85/260\n",
      "Doing dsid 86/260\n",
      "Doing dsid 87/260\n",
      "Doing dsid 88/260\n",
      "Doing dsid 89/260\n",
      "Skipping 361348 since only 3 events\n",
      "Doing dsid 89/260\n",
      "Doing dsid 90/260\n",
      "Doing dsid 91/260\n",
      "Doing dsid 92/260\n",
      "Doing dsid 93/260\n",
      "Doing dsid 94/260\n",
      "Doing dsid 95/260\n",
      "Doing dsid 96/260\n",
      "Doing dsid 97/260\n",
      "Doing dsid 98/260\n",
      "Doing dsid 99/260\n",
      "Doing dsid 100/260\n",
      "Doing dsid 101/260\n",
      "Doing dsid 102/260\n",
      "Doing dsid 103/260\n",
      "Doing dsid 104/260\n",
      "Doing dsid 105/260\n",
      "Doing dsid 106/260\n",
      "Doing dsid 107/260\n",
      "Doing dsid 108/260\n",
      "Doing dsid 109/260\n",
      "Skipping 361370 since only 2 events\n",
      "Doing dsid 109/260\n",
      "Skipping 361371 since only 2 events\n",
      "Doing dsid 109/260\n",
      "Doing dsid 110/260\n",
      "Doing dsid 111/260\n",
      "Doing dsid 112/260\n",
      "Doing dsid 113/260\n",
      "Doing dsid 114/260\n",
      "Doing dsid 115/260\n",
      "Doing dsid 116/260\n",
      "Doing dsid 117/260\n",
      "Doing dsid 118/260\n",
      "Doing dsid 119/260\n",
      "Doing dsid 120/260\n",
      "Doing dsid 121/260\n",
      "Doing dsid 122/260\n",
      "Doing dsid 123/260\n",
      "Doing dsid 124/260\n",
      "Doing dsid 125/260\n",
      "Doing dsid 126/260\n",
      "Doing dsid 127/260\n",
      "Doing dsid 128/260\n",
      "Doing dsid 129/260\n",
      "Doing dsid 130/260\n",
      "Doing dsid 131/260\n",
      "Doing dsid 132/260\n",
      "Doing dsid 133/260\n",
      "Doing dsid 134/260\n",
      "Doing dsid 135/260\n",
      "Doing dsid 136/260\n",
      "Doing dsid 137/260\n",
      "Doing dsid 138/260\n",
      "Doing dsid 139/260\n",
      "Doing dsid 140/260\n",
      "Doing dsid 141/260\n",
      "Doing dsid 142/260\n",
      "Doing dsid 143/260\n",
      "Doing dsid 144/260\n",
      "Doing dsid 145/260\n",
      "Doing dsid 146/260\n",
      "Doing dsid 147/260\n",
      "Doing dsid 148/260\n",
      "Doing dsid 149/260\n",
      "Doing dsid 150/260\n",
      "Doing dsid 151/260\n",
      "Doing dsid 152/260\n",
      "Doing dsid 153/260\n",
      "Doing dsid 154/260\n",
      "Doing dsid 155/260\n",
      "Doing dsid 156/260\n",
      "Doing dsid 157/260\n",
      "Doing dsid 158/260\n",
      "Doing dsid 159/260\n",
      "Doing dsid 160/260\n",
      "Doing dsid 161/260\n",
      "Doing dsid 162/260\n",
      "Doing dsid 163/260\n",
      "Doing dsid 164/260\n",
      "Doing dsid 165/260\n",
      "Doing dsid 166/260\n",
      "Doing dsid 167/260\n",
      "Doing dsid 168/260\n",
      "Doing dsid 169/260\n",
      "Doing dsid 170/260\n",
      "Doing dsid 171/260\n",
      "Doing dsid 172/260\n",
      "Doing dsid 173/260\n",
      "Doing dsid 174/260\n",
      "Doing dsid 175/260\n",
      "Doing dsid 176/260\n",
      "Doing dsid 177/260\n",
      "Doing dsid 178/260\n",
      "Doing dsid 179/260\n",
      "Doing dsid 180/260\n",
      "Doing dsid 181/260\n",
      "Skipping 361449 since only 2 events\n",
      "Doing dsid 181/260\n",
      "Doing dsid 182/260\n",
      "Doing dsid 183/260\n",
      "Doing dsid 184/260\n",
      "Doing dsid 185/260\n",
      "Doing dsid 186/260\n",
      "Doing dsid 187/260\n",
      "Doing dsid 188/260\n",
      "Doing dsid 189/260\n",
      "Doing dsid 190/260\n",
      "Doing dsid 191/260\n",
      "Doing dsid 192/260\n",
      "Doing dsid 193/260\n",
      "Doing dsid 194/260\n",
      "Doing dsid 195/260\n",
      "Doing dsid 196/260\n",
      "Doing dsid 197/260\n",
      "Doing dsid 198/260\n",
      "Doing dsid 199/260\n",
      "Doing dsid 200/260\n",
      "Doing dsid 201/260\n",
      "Doing dsid 202/260\n",
      "Doing dsid 203/260\n",
      "Doing dsid 204/260\n",
      "Doing dsid 205/260\n",
      "Doing dsid 206/260\n",
      "Doing dsid 207/260\n",
      "Doing dsid 208/260\n",
      "Doing dsid 209/260\n",
      "Doing dsid 210/260\n",
      "Doing dsid 211/260\n",
      "Doing dsid 212/260\n",
      "Doing dsid 213/260\n",
      "11272\n",
      "2255\n",
      "Doing dsid 214/260\n",
      "11693\n",
      "2339\n",
      "Doing dsid 215/260\n",
      "4283\n",
      "857\n",
      "Doing dsid 216/260\n",
      "14001\n",
      "2801\n",
      "Doing dsid 217/260\n",
      "12009\n",
      "2402\n",
      "Doing dsid 218/260\n",
      "4371\n",
      "875\n",
      "Doing dsid 219/260\n",
      "15874\n",
      "3175\n",
      "Doing dsid 220/260\n",
      "14812\n",
      "2963\n",
      "Doing dsid 221/260\n",
      "12182\n",
      "2437\n",
      "Doing dsid 222/260\n",
      "16583\n",
      "3317\n",
      "Doing dsid 223/260\n",
      "16446\n",
      "3290\n",
      "Doing dsid 224/260\n",
      "16969\n",
      "3394\n",
      "Doing dsid 225/260\n",
      "16858\n",
      "3372\n",
      "Doing dsid 226/260\n",
      "16593\n",
      "3319\n",
      "Doing dsid 227/260\n",
      "16217\n",
      "3244\n",
      "Doing dsid 228/260\n",
      "17108\n",
      "3422\n",
      "Doing dsid 229/260\n",
      "10918\n",
      "2184\n",
      "Doing dsid 230/260\n",
      "17012\n",
      "3403\n",
      "Doing dsid 231/260\n",
      "Doing dsid 232/260\n",
      "Doing dsid 233/260\n",
      "Doing dsid 234/260\n",
      "Doing dsid 235/260\n",
      "Doing dsid 236/260\n",
      "Doing dsid 237/260\n",
      "Doing dsid 238/260\n",
      "Doing dsid 239/260\n",
      "Doing dsid 240/260\n",
      "Doing dsid 241/260\n",
      "Doing dsid 242/260\n",
      "Doing dsid 243/260\n",
      "Doing dsid 244/260\n",
      "Doing dsid 245/260\n",
      "Doing dsid 246/260\n",
      "Doing dsid 247/260\n",
      "Doing dsid 248/260\n",
      "Doing dsid 249/260\n",
      "Doing dsid 250/260\n",
      "Doing dsid 251/260\n",
      "Doing dsid 252/260\n",
      "Doing dsid 253/260\n",
      "DSID 301535 has 1163 events and 233 (930) events used for training (testing)\n",
      "DSID 301536 has 22653 events and 4531 (18122) events used for training (testing)\n",
      "DSID 301890 has 134 events and 27 (107) events used for training (testing)\n",
      "DSID 301891 has 507 events and 102 (405) events used for training (testing)\n",
      "DSID 301892 has 718 events and 144 (574) events used for training (testing)\n",
      "DSID 301893 has 128 events and 26 (102) events used for training (testing)\n",
      "DSID 301894 has 493 events and 99 (394) events used for training (testing)\n",
      "DSID 301895 has 688 events and 138 (550) events used for training (testing)\n",
      "DSID 301896 has 73 events and 15 (58) events used for training (testing)\n",
      "DSID 301897 has 208 events and 42 (166) events used for training (testing)\n",
      "DSID 301898 has 118 events and 24 (94) events used for training (testing)\n",
      "DSID 301899 has 7742 events and 1549 (6193) events used for training (testing)\n",
      "DSID 301900 has 22223 events and 4445 (17778) events used for training (testing)\n",
      "DSID 301901 has 35853 events and 7171 (28682) events used for training (testing)\n",
      "DSID 301902 has 15657 events and 3132 (12525) events used for training (testing)\n",
      "DSID 301903 has 25467 events and 5094 (20373) events used for training (testing)\n",
      "DSID 301904 has 44549 events and 8910 (35639) events used for training (testing)\n",
      "DSID 301905 has 773 events and 155 (618) events used for training (testing)\n",
      "DSID 301906 has 538 events and 108 (430) events used for training (testing)\n",
      "DSID 301907 has 1151 events and 231 (920) events used for training (testing)\n",
      "DSID 341079 has 26339 events and 5268 (21071) events used for training (testing)\n",
      "DSID 341080 has 29783 events and 5957 (23826) events used for training (testing)\n",
      "DSID 341177 has 9801 events and 1961 (7840) events used for training (testing)\n",
      "DSID 341270 has 2424 events and 485 (1939) events used for training (testing)\n",
      "DSID 341271 has 416 events and 84 (332) events used for training (testing)\n",
      "DSID 341471 has 15533 events and 3107 (12426) events used for training (testing)\n",
      "DSID 341488 has 16437 events and 3288 (13149) events used for training (testing)\n",
      "DSID 341947 has 14678 events and 2936 (11742) events used for training (testing)\n",
      "DSID 341964 has 4878 events and 976 (3902) events used for training (testing)\n",
      "DSID 341974 has 17032 events and 3407 (13625) events used for training (testing)\n",
      "DSID 361063 has 41683 events and 8337 (33346) events used for training (testing)\n",
      "DSID 361064 has 4336 events and 868 (3468) events used for training (testing)\n",
      "DSID 361065 has 4211 events and 843 (3368) events used for training (testing)\n",
      "DSID 361066 has 4108 events and 822 (3286) events used for training (testing)\n",
      "DSID 361067 has 4459 events and 892 (3567) events used for training (testing)\n",
      "DSID 361068 has 91771 events and 18355 (73416) events used for training (testing)\n",
      "DSID 361070 has 2201 events and 441 (1760) events used for training (testing)\n",
      "DSID 361071 has 1422 events and 285 (1137) events used for training (testing)\n",
      "DSID 361072 has 1904 events and 381 (1523) events used for training (testing)\n",
      "DSID 361073 has 2861 events and 573 (2288) events used for training (testing)\n",
      "DSID 361077 has 17385 events and 3477 (13908) events used for training (testing)\n",
      "DSID 361084 has 41623 events and 8325 (33298) events used for training (testing)\n",
      "DSID 361086 has 27751 events and 5551 (22200) events used for training (testing)\n",
      "DSID 361301 has 37 events and 8 (29) events used for training (testing)\n",
      "DSID 361302 has 9 events and 2 (7) events used for training (testing)\n",
      "DSID 361304 has 25 events and 5 (20) events used for training (testing)\n",
      "DSID 361305 has 107 events and 22 (85) events used for training (testing)\n",
      "DSID 361306 has 34 events and 7 (27) events used for training (testing)\n",
      "DSID 361307 has 59 events and 12 (47) events used for training (testing)\n",
      "DSID 361308 has 57 events and 12 (45) events used for training (testing)\n",
      "DSID 361309 has 30 events and 6 (24) events used for training (testing)\n",
      "DSID 361310 has 40 events and 8 (32) events used for training (testing)\n",
      "DSID 361311 has 91 events and 19 (72) events used for training (testing)\n",
      "DSID 361312 has 65 events and 13 (52) events used for training (testing)\n",
      "DSID 361313 has 68 events and 14 (54) events used for training (testing)\n",
      "DSID 361314 has 137 events and 28 (109) events used for training (testing)\n",
      "DSID 361315 has 85 events and 17 (68) events used for training (testing)\n",
      "DSID 361316 has 53 events and 11 (42) events used for training (testing)\n",
      "DSID 361317 has 161 events and 33 (128) events used for training (testing)\n",
      "DSID 361318 has 52 events and 11 (41) events used for training (testing)\n",
      "DSID 361319 has 22 events and 5 (17) events used for training (testing)\n",
      "DSID 361320 has 49 events and 10 (39) events used for training (testing)\n",
      "DSID 361321 has 29 events and 6 (23) events used for training (testing)\n",
      "DSID 361322 has 10 events and 2 (8) events used for training (testing)\n",
      "DSID 361323 has 20 events and 4 (16) events used for training (testing)\n",
      "DSID 361324 has 30 events and 6 (24) events used for training (testing)\n",
      "DSID 361325 has 72 events and 15 (57) events used for training (testing)\n",
      "DSID 361326 has 108 events and 22 (86) events used for training (testing)\n",
      "DSID 361327 has 6 events and 2 (4) events used for training (testing)\n",
      "DSID 361328 has 24 events and 5 (19) events used for training (testing)\n",
      "DSID 361329 has 49 events and 10 (39) events used for training (testing)\n",
      "DSID 361330 has 63 events and 13 (50) events used for training (testing)\n",
      "DSID 361331 has 976 events and 196 (780) events used for training (testing)\n",
      "DSID 361332 has 80 events and 16 (64) events used for training (testing)\n",
      "DSID 361333 has 42 events and 9 (33) events used for training (testing)\n",
      "DSID 361334 has 41 events and 9 (32) events used for training (testing)\n",
      "DSID 361335 has 100 events and 20 (80) events used for training (testing)\n",
      "DSID 361336 has 64 events and 13 (51) events used for training (testing)\n",
      "DSID 361337 has 52 events and 11 (41) events used for training (testing)\n",
      "DSID 361338 has 105 events and 21 (84) events used for training (testing)\n",
      "DSID 361339 has 68 events and 14 (54) events used for training (testing)\n",
      "DSID 361340 has 79 events and 16 (63) events used for training (testing)\n",
      "DSID 361341 has 160 events and 32 (128) events used for training (testing)\n",
      "DSID 361342 has 49 events and 10 (39) events used for training (testing)\n",
      "DSID 361343 has 24 events and 5 (19) events used for training (testing)\n",
      "DSID 361344 has 58 events and 12 (46) events used for training (testing)\n",
      "DSID 361345 has 50 events and 10 (40) events used for training (testing)\n",
      "DSID 361346 has 7 events and 2 (5) events used for training (testing)\n",
      "DSID 361347 has 17 events and 4 (13) events used for training (testing)\n",
      "DSID 361349 has 15 events and 3 (12) events used for training (testing)\n",
      "DSID 361350 has 29 events and 6 (23) events used for training (testing)\n",
      "DSID 361351 has 12 events and 3 (9) events used for training (testing)\n",
      "DSID 361352 has 33 events and 7 (26) events used for training (testing)\n",
      "DSID 361353 has 20 events and 4 (16) events used for training (testing)\n",
      "DSID 361354 has 6 events and 2 (4) events used for training (testing)\n",
      "DSID 361355 has 6 events and 2 (4) events used for training (testing)\n",
      "DSID 361357 has 7 events and 2 (5) events used for training (testing)\n",
      "DSID 361358 has 7 events and 2 (5) events used for training (testing)\n",
      "DSID 361359 has 18 events and 4 (14) events used for training (testing)\n",
      "DSID 361360 has 22 events and 5 (17) events used for training (testing)\n",
      "DSID 361361 has 9 events and 2 (7) events used for training (testing)\n",
      "DSID 361362 has 32 events and 7 (25) events used for training (testing)\n",
      "DSID 361363 has 11 events and 3 (8) events used for training (testing)\n",
      "DSID 361364 has 11 events and 3 (8) events used for training (testing)\n",
      "DSID 361365 has 38 events and 8 (30) events used for training (testing)\n",
      "DSID 361366 has 10 events and 2 (8) events used for training (testing)\n",
      "DSID 361367 has 7 events and 2 (5) events used for training (testing)\n",
      "DSID 361368 has 13 events and 3 (10) events used for training (testing)\n",
      "DSID 361369 has 5 events and 1 (4) events used for training (testing)\n",
      "DSID 361372 has 20145 events and 4029 (16116) events used for training (testing)\n",
      "DSID 361373 has 23965 events and 4793 (19172) events used for training (testing)\n",
      "DSID 361374 has 25978 events and 5196 (20782) events used for training (testing)\n",
      "DSID 361375 has 37237 events and 7448 (29789) events used for training (testing)\n",
      "DSID 361376 has 38326 events and 7666 (30660) events used for training (testing)\n",
      "DSID 361377 has 34645 events and 6929 (27716) events used for training (testing)\n",
      "DSID 361378 has 49893 events and 9979 (39914) events used for training (testing)\n",
      "DSID 361379 has 14986 events and 2998 (11988) events used for training (testing)\n",
      "DSID 361380 has 4875 events and 975 (3900) events used for training (testing)\n",
      "DSID 361381 has 39006 events and 7802 (31204) events used for training (testing)\n",
      "DSID 361382 has 19045 events and 3809 (15236) events used for training (testing)\n",
      "DSID 361383 has 11956 events and 2392 (9564) events used for training (testing)\n",
      "DSID 361384 has 2923 events and 585 (2338) events used for training (testing)\n",
      "DSID 361385 has 4248 events and 850 (3398) events used for training (testing)\n",
      "DSID 361386 has 5284 events and 1057 (4227) events used for training (testing)\n",
      "DSID 361387 has 35762 events and 7153 (28609) events used for training (testing)\n",
      "DSID 361388 has 2071 events and 415 (1656) events used for training (testing)\n",
      "DSID 361389 has 1924 events and 385 (1539) events used for training (testing)\n",
      "DSID 361390 has 1111 events and 223 (888) events used for training (testing)\n",
      "DSID 361391 has 7365 events and 1473 (5892) events used for training (testing)\n",
      "DSID 361392 has 6888 events and 1378 (5510) events used for training (testing)\n",
      "DSID 361393 has 2329 events and 466 (1863) events used for training (testing)\n",
      "DSID 361394 has 1078 events and 216 (862) events used for training (testing)\n",
      "DSID 361395 has 1061 events and 213 (848) events used for training (testing)\n",
      "DSID 361396 has 35755 events and 7151 (28604) events used for training (testing)\n",
      "DSID 361397 has 44867 events and 8974 (35893) events used for training (testing)\n",
      "DSID 361398 has 41164 events and 8233 (32931) events used for training (testing)\n",
      "DSID 361399 has 47156 events and 9432 (37724) events used for training (testing)\n",
      "DSID 361400 has 48507 events and 9702 (38805) events used for training (testing)\n",
      "DSID 361401 has 43443 events and 8689 (34754) events used for training (testing)\n",
      "DSID 361402 has 58398 events and 11680 (46718) events used for training (testing)\n",
      "DSID 361403 has 17479 events and 3496 (13983) events used for training (testing)\n",
      "DSID 361404 has 5518 events and 1104 (4414) events used for training (testing)\n",
      "DSID 361405 has 55495 events and 11099 (44396) events used for training (testing)\n",
      "DSID 361406 has 20192 events and 4039 (16153) events used for training (testing)\n",
      "DSID 361407 has 12918 events and 2584 (10334) events used for training (testing)\n",
      "DSID 361408 has 2826 events and 566 (2260) events used for training (testing)\n",
      "DSID 361409 has 3453 events and 691 (2762) events used for training (testing)\n",
      "DSID 361410 has 5147 events and 1030 (4117) events used for training (testing)\n",
      "DSID 361411 has 2088 events and 418 (1670) events used for training (testing)\n",
      "DSID 361412 has 1875 events and 375 (1500) events used for training (testing)\n",
      "DSID 361413 has 1774 events and 355 (1419) events used for training (testing)\n",
      "DSID 361414 has 1662 events and 333 (1329) events used for training (testing)\n",
      "DSID 361415 has 10797 events and 2160 (8637) events used for training (testing)\n",
      "DSID 361416 has 9857 events and 1972 (7885) events used for training (testing)\n",
      "DSID 361417 has 6543 events and 1309 (5234) events used for training (testing)\n",
      "DSID 361418 has 3183 events and 637 (2546) events used for training (testing)\n",
      "DSID 361419 has 2832 events and 567 (2265) events used for training (testing)\n",
      "DSID 361420 has 2135 events and 427 (1708) events used for training (testing)\n",
      "DSID 361421 has 2206 events and 442 (1764) events used for training (testing)\n",
      "DSID 361422 has 1790 events and 358 (1432) events used for training (testing)\n",
      "DSID 361423 has 683 events and 137 (546) events used for training (testing)\n",
      "DSID 361424 has 1452 events and 291 (1161) events used for training (testing)\n",
      "DSID 361425 has 654 events and 131 (523) events used for training (testing)\n",
      "DSID 361426 has 1476 events and 296 (1180) events used for training (testing)\n",
      "DSID 361427 has 356 events and 72 (284) events used for training (testing)\n",
      "DSID 361428 has 130 events and 26 (104) events used for training (testing)\n",
      "DSID 361429 has 2378 events and 476 (1902) events used for training (testing)\n",
      "DSID 361430 has 2293 events and 459 (1834) events used for training (testing)\n",
      "DSID 361431 has 2217 events and 444 (1773) events used for training (testing)\n",
      "DSID 361432 has 2850 events and 570 (2280) events used for training (testing)\n",
      "DSID 361433 has 2797 events and 560 (2237) events used for training (testing)\n",
      "DSID 361434 has 2599 events and 520 (2079) events used for training (testing)\n",
      "DSID 361435 has 1285 events and 257 (1028) events used for training (testing)\n",
      "DSID 361436 has 736 events and 148 (588) events used for training (testing)\n",
      "DSID 361437 has 727 events and 146 (581) events used for training (testing)\n",
      "DSID 361438 has 393 events and 79 (314) events used for training (testing)\n",
      "DSID 361439 has 267 events and 54 (213) events used for training (testing)\n",
      "DSID 361440 has 279 events and 56 (223) events used for training (testing)\n",
      "DSID 361441 has 165 events and 33 (132) events used for training (testing)\n",
      "DSID 361442 has 75 events and 15 (60) events used for training (testing)\n",
      "DSID 361443 has 74 events and 15 (59) events used for training (testing)\n",
      "DSID 361468 has 914 events and 183 (731) events used for training (testing)\n",
      "DSID 361469 has 2947 events and 590 (2357) events used for training (testing)\n",
      "DSID 361470 has 10794 events and 2159 (8635) events used for training (testing)\n",
      "DSID 361471 has 26060 events and 5212 (20848) events used for training (testing)\n",
      "DSID 361472 has 32582 events and 6517 (26065) events used for training (testing)\n",
      "DSID 361473 has 30469 events and 6094 (24375) events used for training (testing)\n",
      "DSID 361474 has 6499 events and 1300 (5199) events used for training (testing)\n",
      "DSID 361475 has 2865 events and 573 (2292) events used for training (testing)\n",
      "DSID 361476 has 4646 events and 930 (3716) events used for training (testing)\n",
      "DSID 361477 has 6907 events and 1382 (5525) events used for training (testing)\n",
      "DSID 361478 has 163797 events and 32760 (131037) events used for training (testing)\n",
      "DSID 361479 has 28346 events and 5670 (22676) events used for training (testing)\n",
      "DSID 361480 has 35958 events and 7192 (28766) events used for training (testing)\n",
      "DSID 361481 has 33389 events and 6678 (26711) events used for training (testing)\n",
      "DSID 361482 has 27757 events and 5552 (22205) events used for training (testing)\n",
      "DSID 361483 has 12758 events and 2552 (10206) events used for training (testing)\n",
      "DSID 361484 has 25 events and 5 (20) events used for training (testing)\n",
      "DSID 361485 has 7 events and 2 (5) events used for training (testing)\n",
      "DSID 361486 has 1766 events and 354 (1412) events used for training (testing)\n",
      "DSID 361487 has 316 events and 64 (252) events used for training (testing)\n",
      "DSID 361488 has 1112 events and 223 (889) events used for training (testing)\n",
      "DSID 361489 has 538 events and 108 (430) events used for training (testing)\n",
      "DSID 361490 has 211 events and 43 (168) events used for training (testing)\n",
      "DSID 361491 has 92 events and 19 (73) events used for training (testing)\n",
      "DSID 361620 has 15326 events and 3066 (12260) events used for training (testing)\n",
      "DSID 361621 has 7325 events and 1465 (5860) events used for training (testing)\n",
      "DSID 361622 has 13873 events and 2775 (11098) events used for training (testing)\n",
      "DSID 361623 has 6535 events and 1307 (5228) events used for training (testing)\n",
      "DSID 361624 has 11463 events and 2293 (9170) events used for training (testing)\n",
      "DSID 361625 has 3272 events and 655 (2617) events used for training (testing)\n",
      "DSID 361626 has 7094 events and 1419 (5675) events used for training (testing)\n",
      "DSID 361627 has 11646 events and 2330 (9316) events used for training (testing)\n",
      "DSID 392500 has 11272 events and 2255 (9017) events used for training (testing)\n",
      "DSID 392501 has 11693 events and 2339 (9354) events used for training (testing)\n",
      "DSID 392502 has 4283 events and 857 (3426) events used for training (testing)\n",
      "DSID 392504 has 14001 events and 2801 (11200) events used for training (testing)\n",
      "DSID 392505 has 12009 events and 2402 (9607) events used for training (testing)\n",
      "DSID 392506 has 4371 events and 875 (3496) events used for training (testing)\n",
      "DSID 392507 has 15874 events and 3175 (12699) events used for training (testing)\n",
      "DSID 392508 has 14812 events and 2963 (11849) events used for training (testing)\n",
      "DSID 392509 has 12182 events and 2437 (9745) events used for training (testing)\n",
      "DSID 392510 has 16583 events and 3317 (13266) events used for training (testing)\n",
      "DSID 392511 has 16446 events and 3290 (13156) events used for training (testing)\n",
      "DSID 392514 has 16969 events and 3394 (13575) events used for training (testing)\n",
      "DSID 392515 has 16858 events and 3372 (13486) events used for training (testing)\n",
      "DSID 392516 has 16593 events and 3319 (13274) events used for training (testing)\n",
      "DSID 392517 has 16217 events and 3244 (12973) events used for training (testing)\n",
      "DSID 392518 has 17108 events and 3422 (13686) events used for training (testing)\n",
      "DSID 392519 has 10918 events and 2184 (8734) events used for training (testing)\n",
      "DSID 392520 has 17012 events and 3403 (13609) events used for training (testing)\n",
      "DSID 410000 has 4050 events and 810 (3240) events used for training (testing)\n",
      "DSID 410011 has 68 events and 14 (54) events used for training (testing)\n",
      "DSID 410012 has 183 events and 37 (146) events used for training (testing)\n",
      "DSID 410015 has 22815 events and 4563 (18252) events used for training (testing)\n",
      "DSID 410016 has 23042 events and 4609 (18433) events used for training (testing)\n",
      "DSID 410025 has 75 events and 15 (60) events used for training (testing)\n",
      "DSID 410026 has 78 events and 16 (62) events used for training (testing)\n",
      "DSID 410050 has 6628 events and 1326 (5302) events used for training (testing)\n",
      "DSID 410064 has 13695 events and 2739 (10956) events used for training (testing)\n",
      "DSID 410065 has 22944 events and 4589 (18355) events used for training (testing)\n",
      "DSID 410066 has 4856 events and 972 (3884) events used for training (testing)\n",
      "DSID 410067 has 4632 events and 927 (3705) events used for training (testing)\n",
      "DSID 410068 has 4469 events and 894 (3575) events used for training (testing)\n",
      "DSID 410069 has 21678 events and 4336 (17342) events used for training (testing)\n",
      "DSID 410070 has 20921 events and 4185 (16736) events used for training (testing)\n",
      "DSID 410080 has 5814 events and 1163 (4651) events used for training (testing)\n",
      "DSID 410081 has 3774 events and 755 (3019) events used for training (testing)\n",
      "DSID 410111 has 23433 events and 4687 (18746) events used for training (testing)\n",
      "DSID 410112 has 24190 events and 4838 (19352) events used for training (testing)\n",
      "DSID 410113 has 27705 events and 5541 (22164) events used for training (testing)\n",
      "DSID 410114 has 27368 events and 5474 (21894) events used for training (testing)\n",
      "DSID 410115 has 4897 events and 980 (3917) events used for training (testing)\n",
      "DSID 410116 has 5116 events and 1024 (4092) events used for training (testing)\n"
     ]
    }
   ],
   "source": [
    "dsids = np.concatenate((all_var_bkg[:,susyFeaturesExclude[\"dsid\"]],all_var_sig[:,susyFeaturesExclude[\"dsid\"]]),axis=0)\n",
    "print \"There are %i unique data sets in the signal and background samples\" %np.unique(dsids).shape[0]\n",
    "n = 0\n",
    "for dsid in np.unique(dsids):\n",
    "    #\n",
    "    #if (dsid >= 392500 and dsid <= 392521): continue\n",
    "    print \"Doing dsid %i/%i\" %(n,np.unique(dsids).shape[0])\n",
    "    num = 0\n",
    "    isBkg = True\n",
    "    indexs = np.where(all_var_bkg[:,susyFeaturesExclude[\"dsid\"]] == dsid)\n",
    "    num = indexs[0].shape[0]\n",
    "    if not num: \n",
    "        indexs = np.where(all_var_sig[:,susyFeaturesExclude[\"dsid\"]] == dsid)\n",
    "        num = indexs[0].shape[0]\n",
    "        isBkg = False\n",
    "    if num < 5: \n",
    "        print \"Skipping %i since only %i events\" %(dsid,num)\n",
    "        continue\n",
    "    if isBkg:\n",
    "        counts_dsids[dsid] = num\n",
    "        X_train_bkg[dsid] = all_var_bkg[indexs[0][:int(math.ceil(num*rBackgroundEvents))],:]\n",
    "        X_test_bkg[dsid]  = all_var_bkg[indexs[0][int(math.ceil(num*rBackgroundEvents)):],:]\n",
    "    else:   \n",
    "        num = indexs[0].shape[0]\n",
    "        print num\n",
    "        counts_dsids[dsid] = num\n",
    "        X_train_sig[dsid] = all_var_sig[indexs[0][:int(math.ceil(num*rSignalEvents))],:]\n",
    "        X_test_sig[dsid]  = all_var_sig[indexs[0][int(math.ceil(num*rSignalEvents)):],:]\n",
    "        print X_train_sig[dsid].shape[0]\n",
    "    n += 1\n",
    "        \n",
    "for dsid in sorted(counts_dsids.keys()):\n",
    "    if dsid in X_train_bkg.keys():\n",
    "        W_train_bkg[dsid] = X_train_bkg[dsid][:,susyFeaturesExclude[\"wgt\"]]\n",
    "        W_test_bkg[dsid]  = X_test_bkg[dsid][:,susyFeaturesExclude[\"wgt\"]]\n",
    "        print \"DSID %i has %i events and %i (%i) events used for training (testing)\" %(int(dsid),counts_dsids[dsid],X_train_bkg[dsid].shape[0],X_test_bkg[dsid].shape[0])\n",
    "    elif dsid in X_train_sig.keys():\n",
    "        W_train_sig[dsid] = X_train_sig[dsid][:,susyFeaturesExclude[\"wgt\"]]\n",
    "        W_test_sig[dsid]  = X_test_sig[dsid][:,susyFeaturesExclude[\"wgt\"]]\n",
    "        print \"DSID %i has %i events and %i (%i) events used for training (testing)\" %(int(dsid),counts_dsids[dsid],X_train_sig[dsid].shape[0],X_test_sig[dsid].shape[0])   "
   ]
  },
  {
   "cell_type": "code",
   "execution_count": 14,
   "metadata": {},
   "outputs": [
    {
     "name": "stdout",
     "output_type": "stream",
     "text": [
      "Adding 1/254 with 233 events to training sample. Now is 233\n",
      "Adding 2/254 with 4531 events to training sample. Now is 4764\n",
      "Adding 3/254 with 27 events to training sample. Now is 4791\n",
      "Adding 4/254 with 102 events to training sample. Now is 4893\n",
      "Adding 5/254 with 144 events to training sample. Now is 5037\n",
      "Adding 6/254 with 26 events to training sample. Now is 5063\n",
      "Adding 7/254 with 99 events to training sample. Now is 5162\n",
      "Adding 8/254 with 138 events to training sample. Now is 5300\n",
      "Adding 9/254 with 15 events to training sample. Now is 5315\n",
      "Adding 10/254 with 42 events to training sample. Now is 5357\n",
      "Adding 11/254 with 24 events to training sample. Now is 5381\n",
      "Adding 12/254 with 1549 events to training sample. Now is 6930\n",
      "Adding 13/254 with 4445 events to training sample. Now is 11375\n",
      "Adding 14/254 with 7171 events to training sample. Now is 18546\n",
      "Adding 15/254 with 3132 events to training sample. Now is 21678\n",
      "Adding 16/254 with 5094 events to training sample. Now is 26772\n",
      "Adding 17/254 with 8910 events to training sample. Now is 35682\n",
      "Adding 18/254 with 155 events to training sample. Now is 35837\n",
      "Adding 19/254 with 108 events to training sample. Now is 35945\n",
      "Adding 20/254 with 231 events to training sample. Now is 36176\n",
      "Adding 21/254 with 5268 events to training sample. Now is 41444\n",
      "Adding 22/254 with 5957 events to training sample. Now is 47401\n",
      "Adding 23/254 with 1961 events to training sample. Now is 49362\n",
      "Adding 24/254 with 485 events to training sample. Now is 49847\n",
      "Adding 25/254 with 84 events to training sample. Now is 49931\n",
      "Adding 26/254 with 3107 events to training sample. Now is 53038\n",
      "Adding 27/254 with 3288 events to training sample. Now is 56326\n",
      "Adding 28/254 with 2936 events to training sample. Now is 59262\n",
      "Adding 29/254 with 976 events to training sample. Now is 60238\n",
      "Adding 30/254 with 3407 events to training sample. Now is 63645\n",
      "Adding 31/254 with 8337 events to training sample. Now is 71982\n",
      "Adding 32/254 with 868 events to training sample. Now is 72850\n",
      "Adding 33/254 with 843 events to training sample. Now is 73693\n",
      "Adding 34/254 with 822 events to training sample. Now is 74515\n",
      "Adding 35/254 with 892 events to training sample. Now is 75407\n",
      "Adding 36/254 with 18355 events to training sample. Now is 93762\n",
      "Adding 37/254 with 441 events to training sample. Now is 94203\n",
      "Adding 38/254 with 285 events to training sample. Now is 94488\n",
      "Adding 39/254 with 381 events to training sample. Now is 94869\n",
      "Adding 40/254 with 573 events to training sample. Now is 95442\n",
      "Adding 41/254 with 3477 events to training sample. Now is 98919\n",
      "Adding 42/254 with 8325 events to training sample. Now is 107244\n",
      "Adding 43/254 with 5551 events to training sample. Now is 112795\n",
      "Adding 44/254 with 8 events to training sample. Now is 112803\n",
      "Adding 45/254 with 2 events to training sample. Now is 112805\n",
      "Adding 46/254 with 5 events to training sample. Now is 112810\n",
      "Adding 47/254 with 22 events to training sample. Now is 112832\n",
      "Adding 48/254 with 7 events to training sample. Now is 112839\n",
      "Adding 49/254 with 12 events to training sample. Now is 112851\n",
      "Adding 50/254 with 12 events to training sample. Now is 112863\n",
      "Adding 51/254 with 6 events to training sample. Now is 112869\n",
      "Adding 52/254 with 8 events to training sample. Now is 112877\n",
      "Adding 53/254 with 19 events to training sample. Now is 112896\n",
      "Adding 54/254 with 13 events to training sample. Now is 112909\n",
      "Adding 55/254 with 14 events to training sample. Now is 112923\n",
      "Adding 56/254 with 28 events to training sample. Now is 112951\n",
      "Adding 57/254 with 17 events to training sample. Now is 112968\n",
      "Adding 58/254 with 11 events to training sample. Now is 112979\n",
      "Adding 59/254 with 33 events to training sample. Now is 113012\n",
      "Adding 60/254 with 11 events to training sample. Now is 113023\n",
      "Adding 61/254 with 5 events to training sample. Now is 113028\n",
      "Adding 62/254 with 10 events to training sample. Now is 113038\n",
      "Adding 63/254 with 6 events to training sample. Now is 113044\n",
      "Adding 64/254 with 2 events to training sample. Now is 113046\n",
      "Adding 65/254 with 4 events to training sample. Now is 113050\n",
      "Adding 66/254 with 6 events to training sample. Now is 113056\n",
      "Adding 67/254 with 15 events to training sample. Now is 113071\n",
      "Adding 68/254 with 22 events to training sample. Now is 113093\n",
      "Adding 69/254 with 2 events to training sample. Now is 113095\n",
      "Adding 70/254 with 5 events to training sample. Now is 113100\n",
      "Adding 71/254 with 10 events to training sample. Now is 113110\n",
      "Adding 72/254 with 13 events to training sample. Now is 113123\n",
      "Adding 73/254 with 196 events to training sample. Now is 113319\n",
      "Adding 74/254 with 16 events to training sample. Now is 113335\n",
      "Adding 75/254 with 9 events to training sample. Now is 113344\n",
      "Adding 76/254 with 9 events to training sample. Now is 113353\n",
      "Adding 77/254 with 20 events to training sample. Now is 113373\n",
      "Adding 78/254 with 13 events to training sample. Now is 113386\n",
      "Adding 79/254 with 11 events to training sample. Now is 113397\n",
      "Adding 80/254 with 21 events to training sample. Now is 113418\n",
      "Adding 81/254 with 14 events to training sample. Now is 113432\n",
      "Adding 82/254 with 16 events to training sample. Now is 113448\n",
      "Adding 83/254 with 32 events to training sample. Now is 113480\n",
      "Adding 84/254 with 10 events to training sample. Now is 113490\n",
      "Adding 85/254 with 5 events to training sample. Now is 113495\n",
      "Adding 86/254 with 12 events to training sample. Now is 113507\n",
      "Adding 87/254 with 10 events to training sample. Now is 113517\n",
      "Adding 88/254 with 2 events to training sample. Now is 113519\n",
      "Adding 89/254 with 4 events to training sample. Now is 113523\n",
      "Adding 90/254 with 3 events to training sample. Now is 113526\n",
      "Adding 91/254 with 6 events to training sample. Now is 113532\n",
      "Adding 92/254 with 3 events to training sample. Now is 113535\n",
      "Adding 93/254 with 7 events to training sample. Now is 113542\n",
      "Adding 94/254 with 4 events to training sample. Now is 113546\n",
      "Adding 95/254 with 2 events to training sample. Now is 113548\n",
      "Adding 96/254 with 2 events to training sample. Now is 113550\n",
      "Adding 97/254 with 2 events to training sample. Now is 113552\n",
      "Adding 98/254 with 2 events to training sample. Now is 113554\n",
      "Adding 99/254 with 4 events to training sample. Now is 113558\n",
      "Adding 100/254 with 5 events to training sample. Now is 113563\n",
      "Adding 101/254 with 2 events to training sample. Now is 113565\n",
      "Adding 102/254 with 7 events to training sample. Now is 113572\n",
      "Adding 103/254 with 3 events to training sample. Now is 113575\n",
      "Adding 104/254 with 3 events to training sample. Now is 113578\n",
      "Adding 105/254 with 8 events to training sample. Now is 113586\n",
      "Adding 106/254 with 2 events to training sample. Now is 113588\n",
      "Adding 107/254 with 2 events to training sample. Now is 113590\n",
      "Adding 108/254 with 3 events to training sample. Now is 113593\n",
      "Adding 109/254 with 1 events to training sample. Now is 113594\n",
      "Adding 110/254 with 4029 events to training sample. Now is 117623\n",
      "Adding 111/254 with 4793 events to training sample. Now is 122416\n",
      "Adding 112/254 with 5196 events to training sample. Now is 127612\n",
      "Adding 113/254 with 7448 events to training sample. Now is 135060\n",
      "Adding 114/254 with 7666 events to training sample. Now is 142726\n",
      "Adding 115/254 with 6929 events to training sample. Now is 149655\n",
      "Adding 116/254 with 9979 events to training sample. Now is 159634\n",
      "Adding 117/254 with 2998 events to training sample. Now is 162632\n",
      "Adding 118/254 with 975 events to training sample. Now is 163607\n",
      "Adding 119/254 with 7802 events to training sample. Now is 171409\n",
      "Adding 120/254 with 3809 events to training sample. Now is 175218\n",
      "Adding 121/254 with 2392 events to training sample. Now is 177610\n",
      "Adding 122/254 with 585 events to training sample. Now is 178195\n",
      "Adding 123/254 with 850 events to training sample. Now is 179045\n",
      "Adding 124/254 with 1057 events to training sample. Now is 180102\n",
      "Adding 125/254 with 7153 events to training sample. Now is 187255\n",
      "Adding 126/254 with 415 events to training sample. Now is 187670\n",
      "Adding 127/254 with 385 events to training sample. Now is 188055\n",
      "Adding 128/254 with 223 events to training sample. Now is 188278\n",
      "Adding 129/254 with 1473 events to training sample. Now is 189751\n",
      "Adding 130/254 with 1378 events to training sample. Now is 191129\n",
      "Adding 131/254 with 466 events to training sample. Now is 191595\n",
      "Adding 132/254 with 216 events to training sample. Now is 191811\n"
     ]
    },
    {
     "name": "stdout",
     "output_type": "stream",
     "text": [
      "Adding 133/254 with 213 events to training sample. Now is 192024\n",
      "Adding 134/254 with 7151 events to training sample. Now is 199175\n",
      "Adding 135/254 with 8974 events to training sample. Now is 208149\n",
      "Adding 136/254 with 8233 events to training sample. Now is 216382\n",
      "Adding 137/254 with 9432 events to training sample. Now is 225814\n",
      "Adding 138/254 with 9702 events to training sample. Now is 235516\n",
      "Adding 139/254 with 8689 events to training sample. Now is 244205\n",
      "Adding 140/254 with 11680 events to training sample. Now is 255885\n",
      "Adding 141/254 with 3496 events to training sample. Now is 259381\n",
      "Adding 142/254 with 1104 events to training sample. Now is 260485\n",
      "Adding 143/254 with 11099 events to training sample. Now is 271584\n",
      "Adding 144/254 with 4039 events to training sample. Now is 275623\n",
      "Adding 145/254 with 2584 events to training sample. Now is 278207\n",
      "Adding 146/254 with 566 events to training sample. Now is 278773\n",
      "Adding 147/254 with 691 events to training sample. Now is 279464\n",
      "Adding 148/254 with 1030 events to training sample. Now is 280494\n",
      "Adding 149/254 with 418 events to training sample. Now is 280912\n",
      "Adding 150/254 with 375 events to training sample. Now is 281287\n",
      "Adding 151/254 with 355 events to training sample. Now is 281642\n",
      "Adding 152/254 with 333 events to training sample. Now is 281975\n",
      "Adding 153/254 with 2160 events to training sample. Now is 284135\n",
      "Adding 154/254 with 1972 events to training sample. Now is 286107\n",
      "Adding 155/254 with 1309 events to training sample. Now is 287416\n",
      "Adding 156/254 with 637 events to training sample. Now is 288053\n",
      "Adding 157/254 with 567 events to training sample. Now is 288620\n",
      "Adding 158/254 with 427 events to training sample. Now is 289047\n",
      "Adding 159/254 with 442 events to training sample. Now is 289489\n",
      "Adding 160/254 with 358 events to training sample. Now is 289847\n",
      "Adding 161/254 with 137 events to training sample. Now is 289984\n",
      "Adding 162/254 with 291 events to training sample. Now is 290275\n",
      "Adding 163/254 with 131 events to training sample. Now is 290406\n",
      "Adding 164/254 with 296 events to training sample. Now is 290702\n",
      "Adding 165/254 with 72 events to training sample. Now is 290774\n",
      "Adding 166/254 with 26 events to training sample. Now is 290800\n",
      "Adding 167/254 with 476 events to training sample. Now is 291276\n",
      "Adding 168/254 with 459 events to training sample. Now is 291735\n",
      "Adding 169/254 with 444 events to training sample. Now is 292179\n",
      "Adding 170/254 with 570 events to training sample. Now is 292749\n",
      "Adding 171/254 with 560 events to training sample. Now is 293309\n",
      "Adding 172/254 with 520 events to training sample. Now is 293829\n",
      "Adding 173/254 with 257 events to training sample. Now is 294086\n",
      "Adding 174/254 with 148 events to training sample. Now is 294234\n",
      "Adding 175/254 with 146 events to training sample. Now is 294380\n",
      "Adding 176/254 with 79 events to training sample. Now is 294459\n",
      "Adding 177/254 with 54 events to training sample. Now is 294513\n",
      "Adding 178/254 with 56 events to training sample. Now is 294569\n",
      "Adding 179/254 with 33 events to training sample. Now is 294602\n",
      "Adding 180/254 with 15 events to training sample. Now is 294617\n",
      "Adding 181/254 with 15 events to training sample. Now is 294632\n",
      "Adding 182/254 with 183 events to training sample. Now is 294815\n",
      "Adding 183/254 with 590 events to training sample. Now is 295405\n",
      "Adding 184/254 with 2159 events to training sample. Now is 297564\n",
      "Adding 185/254 with 5212 events to training sample. Now is 302776\n",
      "Adding 186/254 with 6517 events to training sample. Now is 309293\n",
      "Adding 187/254 with 6094 events to training sample. Now is 315387\n",
      "Adding 188/254 with 1300 events to training sample. Now is 316687\n",
      "Adding 189/254 with 573 events to training sample. Now is 317260\n",
      "Adding 190/254 with 930 events to training sample. Now is 318190\n",
      "Adding 191/254 with 1382 events to training sample. Now is 319572\n",
      "Adding 192/254 with 32760 events to training sample. Now is 352332\n",
      "Adding 193/254 with 5670 events to training sample. Now is 358002\n",
      "Adding 194/254 with 7192 events to training sample. Now is 365194\n",
      "Adding 195/254 with 6678 events to training sample. Now is 371872\n",
      "Adding 196/254 with 5552 events to training sample. Now is 377424\n",
      "Adding 197/254 with 2552 events to training sample. Now is 379976\n",
      "Adding 198/254 with 5 events to training sample. Now is 379981\n",
      "Adding 199/254 with 2 events to training sample. Now is 379983\n",
      "Adding 200/254 with 354 events to training sample. Now is 380337\n",
      "Adding 201/254 with 64 events to training sample. Now is 380401\n",
      "Adding 202/254 with 223 events to training sample. Now is 380624\n",
      "Adding 203/254 with 108 events to training sample. Now is 380732\n",
      "Adding 204/254 with 43 events to training sample. Now is 380775\n",
      "Adding 205/254 with 19 events to training sample. Now is 380794\n",
      "Adding 206/254 with 3066 events to training sample. Now is 383860\n",
      "Adding 207/254 with 1465 events to training sample. Now is 385325\n",
      "Adding 208/254 with 2775 events to training sample. Now is 388100\n",
      "Adding 209/254 with 1307 events to training sample. Now is 389407\n",
      "Adding 210/254 with 2293 events to training sample. Now is 391700\n",
      "Adding 211/254 with 655 events to training sample. Now is 392355\n",
      "Adding 212/254 with 1419 events to training sample. Now is 393774\n",
      "Adding 213/254 with 2330 events to training sample. Now is 396104\n",
      "Adding 214/254 with 2255 events to training sample. Now is 398359\n",
      "Adding 215/254 with 2339 events to training sample. Now is 400698\n",
      "Adding 216/254 with 857 events to training sample. Now is 401555\n",
      "Adding 217/254 with 2801 events to training sample. Now is 404356\n",
      "Adding 218/254 with 2402 events to training sample. Now is 406758\n",
      "Adding 219/254 with 875 events to training sample. Now is 407633\n",
      "Adding 220/254 with 3175 events to training sample. Now is 410808\n",
      "Adding 221/254 with 2963 events to training sample. Now is 413771\n",
      "Adding 222/254 with 2437 events to training sample. Now is 416208\n",
      "Adding 223/254 with 3317 events to training sample. Now is 419525\n",
      "Adding 224/254 with 3290 events to training sample. Now is 422815\n",
      "Adding 225/254 with 3394 events to training sample. Now is 426209\n",
      "Adding 226/254 with 3372 events to training sample. Now is 429581\n",
      "Adding 227/254 with 3319 events to training sample. Now is 432900\n",
      "Adding 228/254 with 3244 events to training sample. Now is 436144\n",
      "Adding 229/254 with 3422 events to training sample. Now is 439566\n",
      "Adding 230/254 with 2184 events to training sample. Now is 441750\n",
      "Adding 231/254 with 3403 events to training sample. Now is 445153\n",
      "Adding 232/254 with 810 events to training sample. Now is 445963\n",
      "Adding 233/254 with 14 events to training sample. Now is 445977\n",
      "Adding 234/254 with 37 events to training sample. Now is 446014\n",
      "Adding 235/254 with 4563 events to training sample. Now is 450577\n",
      "Adding 236/254 with 4609 events to training sample. Now is 455186\n",
      "Adding 237/254 with 15 events to training sample. Now is 455201\n",
      "Adding 238/254 with 16 events to training sample. Now is 455217\n",
      "Adding 239/254 with 1326 events to training sample. Now is 456543\n",
      "Adding 240/254 with 2739 events to training sample. Now is 459282\n",
      "Adding 241/254 with 4589 events to training sample. Now is 463871\n",
      "Adding 242/254 with 972 events to training sample. Now is 464843\n",
      "Adding 243/254 with 927 events to training sample. Now is 465770\n",
      "Adding 244/254 with 894 events to training sample. Now is 466664\n",
      "Adding 245/254 with 4336 events to training sample. Now is 471000\n",
      "Adding 246/254 with 4185 events to training sample. Now is 475185\n",
      "Adding 247/254 with 1163 events to training sample. Now is 476348\n",
      "Adding 248/254 with 755 events to training sample. Now is 477103\n",
      "Adding 249/254 with 4687 events to training sample. Now is 481790\n",
      "Adding 250/254 with 4838 events to training sample. Now is 486628\n",
      "Adding 251/254 with 5541 events to training sample. Now is 492169\n",
      "Adding 252/254 with 5474 events to training sample. Now is 497643\n",
      "Adding 253/254 with 980 events to training sample. Now is 498623\n",
      "Adding 254/254 with 1024 events to training sample. Now is 499647\n"
     ]
    }
   ],
   "source": [
    "W_train = np.array([])\n",
    "X_train = np.array([])\n",
    "W_test  = np.array([])\n",
    "X_test  = np.array([])\n",
    "n = 1\n",
    "for dsid in sorted(counts_dsids.keys()):\n",
    "    if dsid in X_train_bkg.keys():\n",
    "        if X_train.shape[0] == 0:\n",
    "            X_train = np.copy(X_train_bkg[dsid])\n",
    "            W_train = np.copy(W_train_bkg[dsid])\n",
    "            X_test = np.copy(X_test_bkg[dsid])\n",
    "            W_test = np.copy(W_test_bkg[dsid])\n",
    "        else:\n",
    "            X_train = np.concatenate((X_train_bkg[dsid],X_train),axis=0)\n",
    "            W_train = np.concatenate((W_train_bkg[dsid],W_train),axis=0)\n",
    "            X_test  = np.concatenate((X_test_bkg[dsid],X_test),axis=0)\n",
    "            W_test  = np.concatenate((W_test_bkg[dsid],W_test),axis=0)\n",
    "        print \"Adding %i/%i with %i events to training sample. Now is %i\" %(n,len(counts_dsids.keys()),X_train_bkg[dsid].shape[0],X_train.shape[0])\n",
    "    elif dsid in X_train_sig.keys():\n",
    "        if X_train.shape[0] == 0:\n",
    "            X_train = np.copy(X_train_sig[dsid])\n",
    "            W_train = np.copy(W_train_sig[dsid])\n",
    "            X_test  = np.copy(X_test_sig[dsid])\n",
    "            W_test  = np.copy(W_test_sig[dsid])\n",
    "        else:\n",
    "            X_train = np.concatenate((X_train_sig[dsid],X_train),axis=0)\n",
    "            W_train = np.concatenate((W_train_sig[dsid],W_train),axis=0)\n",
    "            X_test  = np.concatenate((X_test_sig[dsid],X_test),axis=0)\n",
    "            W_test  = np.concatenate((W_test_sig[dsid],W_test),axis=0)\n",
    "        print \"Adding %i/%i with %i events to training sample. Now is %i\" %(n,len(counts_dsids.keys()),X_train_sig[dsid].shape[0],X_train.shape[0])\n",
    "   \n",
    "        \n",
    "    n += 1"
   ]
  },
  {
   "cell_type": "code",
   "execution_count": 15,
   "metadata": {},
   "outputs": [
    {
     "name": "stdout",
     "output_type": "stream",
     "text": [
      "(499647,)\n",
      "(499647, 42)\n",
      "(499647,)\n"
     ]
    }
   ],
   "source": [
    "# check that the shapes match and make the target vector (Y)\n",
    "print W_train.shape\n",
    "print X_train.shape\n",
    "Y_train = np.where(X_train[:,susyFeaturesExclude[\"isSignal\"]],1,0)\n",
    "print Y_train.shape"
   ]
  },
  {
   "cell_type": "code",
   "execution_count": 16,
   "metadata": {},
   "outputs": [
    {
     "name": "stdout",
     "output_type": "stream",
     "text": [
      "(1998068,)\n",
      "(1998068, 42)\n",
      "(1998068,)\n"
     ]
    }
   ],
   "source": [
    "# check that the shapes match and make the target vector (Y)\n",
    "print W_test.shape\n",
    "print X_test.shape\n",
    "Y_test = np.where(X_test[:,susyFeaturesExclude[\"isSignal\"]],1,0)\n",
    "print Y_test.shape"
   ]
  },
  {
   "cell_type": "code",
   "execution_count": 17,
   "metadata": {},
   "outputs": [
    {
     "name": "stdout",
     "output_type": "stream",
     "text": [
      "(1998068, 38)\n",
      "TRAIN sample: Removed 4 variables (dsid,massSplit,isSignal,isBkg,wgt), shape is now (499647,38)\n",
      "TEST  sample: Removed 4 variables (dsid,massSplit,isSignal,isBkg,wgt), shape is now (1998068,38)\n"
     ]
    }
   ],
   "source": [
    "X_train_clean = np.delete(X_train,delitems,1)\n",
    "X_test_clean = np.delete(X_test,delitems,1)\n",
    "print X_test_clean.shape\n",
    "print \"TRAIN sample: Removed %i variables (%s), shape is now (%s,%s)\" %(len(delitems),\",\".join(susyFeaturesExclude),X_train_clean.shape[0],X_train_clean.shape[1])\n",
    "print \"TEST  sample: Removed %i variables (%s), shape is now (%s,%s)\" %(len(delitems),\",\".join(susyFeaturesExclude),X_test_clean.shape[0],X_test_clean.shape[1])"
   ]
  },
  {
   "cell_type": "code",
   "execution_count": 18,
   "metadata": {},
   "outputs": [],
   "source": [
    "degree = 2\n",
    "lambda_=1e-5\n",
    "logreg = linear_model.LogisticRegression(C=1/lambda_,max_iter=200)"
   ]
  },
  {
   "cell_type": "code",
   "execution_count": 19,
   "metadata": {},
   "outputs": [
    {
     "data": {
      "text/plain": [
       "40"
      ]
     },
     "execution_count": 19,
     "metadata": {},
     "output_type": "execute_result"
    }
   ],
   "source": [
    "susyFeaturesExclude[\"isSignal\"]"
   ]
  },
  {
   "cell_type": "code",
   "execution_count": 59,
   "metadata": {},
   "outputs": [
    {
     "data": {
      "text/plain": [
       "LogisticRegression(C=100000.0, class_weight=None, dual=False,\n",
       "          fit_intercept=True, intercept_scaling=1, max_iter=200,\n",
       "          multi_class='warn', n_jobs=None, penalty='l2', random_state=None,\n",
       "          solver='warn', tol=0.0001, verbose=0, warm_start=False)"
      ]
     },
     "execution_count": 59,
     "metadata": {},
     "output_type": "execute_result"
    }
   ],
   "source": [
    "logreg.fit(X_train_clean, Y_train.ravel(),W_train)"
   ]
  },
  {
   "cell_type": "code",
   "execution_count": 21,
   "metadata": {},
   "outputs": [
    {
     "data": {
      "text/plain": [
       "<BarContainer object of 38 artists>"
      ]
     },
     "execution_count": 21,
     "metadata": {},
     "output_type": "execute_result"
    },
    {
     "data": {
      "image/png": "[encoded data removed]",
      "text/plain": [
       "<Figure size 2736x1440 with 1 Axes>"
      ]
     },
     "metadata": {
      "needs_background": "light"
     },
     "output_type": "display_data"
    }
   ],
   "source": [
    "sorted_coeff = np.sort(logreg.coef_[0])\n",
    "i = 1\n",
    "data = np.arange(len(sorted_coeff),dtype=\"f\")\n",
    "label = np.arange(len(sorted_coeff),dtype='object')\n",
    "for sc in reversed(sorted_coeff):\n",
    "    itemindex = np.where(logreg.coef_[0]==sc)\n",
    "    label[i-1] = attributes[itemindex[0][0]]\n",
    "    data[i-1] = float(sc)\n",
    "    i += 1\n",
    "plt.figure(figsize=(38,20))\n",
    "plt.xticks(rotation='vertical',fontsize=42)\n",
    "plt.bar(np.arange(i-1),data,tick_label=label,bottom=1e-8)"
   ]
  },
  {
   "cell_type": "code",
   "execution_count": 22,
   "metadata": {},
   "outputs": [],
   "source": [
    "def print_score(X,Y,logreg):\n",
    "    predictions=logreg.predict(X)\n",
    "    print('Accuracy:', accuracy_score(Y, predictions))\n",
    "    print('Precision:', precision_score(Y, predictions, average='macro'))\n",
    "    print('Recall:', recall_score(Y, predictions, average='macro'))\n",
    "    return predictions"
   ]
  },
  {
   "cell_type": "code",
   "execution_count": 61,
   "metadata": {},
   "outputs": [
    {
     "name": "stdout",
     "output_type": "stream",
     "text": [
      "('Accuracy:', 0.9018326938818806)\n",
      "('Precision:', 0.7009171511773359)\n",
      "('Recall:', 0.5000090842512175)\n"
     ]
    },
    {
     "data": {
      "text/plain": [
       "array([-23.18771715, -16.44136175, -42.72646954, ...,  -9.90849999,\n",
       "       -19.10973757,  -8.23693658])"
      ]
     },
     "execution_count": 61,
     "metadata": {},
     "output_type": "execute_result"
    }
   ],
   "source": [
    "pred = print_score(X_train_clean, Y_train,logreg)\n",
    "logreg.decision_function(X_train_clean)"
   ]
  },
  {
   "cell_type": "markdown",
   "metadata": {},
   "source": [
    "The code below plots the decision curve for the logreg for background and signal. The ROOT histograms are used for finding the optimal cut on the decision curve for optimizing the significance."
   ]
  },
  {
   "cell_type": "code",
   "execution_count": 96,
   "metadata": {},
   "outputs": [
    {
     "name": "stderr",
     "output_type": "stream",
     "text": [
      "TROOT::Append:0: RuntimeWarning: Replacing existing TH1: h_signal (Potential memory leak).\n",
      "TROOT::Append:0: RuntimeWarning: Replacing existing TH1: h_backgr (Potential memory leak).\n"
     ]
    },
    {
     "name": "stdout",
     "output_type": "stream",
     "text": [
      "Number of background events =  450598\n",
      "Number of signal events     =  49049\n"
     ]
    },
    {
     "data": {
      "image/png": "[encoded data removed]",
      "text/plain": [
       "<Figure size 864x432 with 1 Axes>"
      ]
     },
     "metadata": {
      "needs_background": "light"
     },
     "output_type": "display_data"
    }
   ],
   "source": [
    "# ROOT histohgrams for finding the optimal cut (not used for plotting)\n",
    "h_signal = TH1F(\"h_signal\",\"h_signal\",100,-1000,0)\n",
    "h_backgr = TH1F(\"h_backgr\",\"h_backgr\",100,-1000,0)\n",
    "# Get the decision function for the training sample\n",
    "dec = logreg.decision_function(X_train_clean)\n",
    "# Need to know how many signal events and background events \n",
    "# there are in the training set in order to create the numpy arrays\n",
    "unique, counts = np.unique(Y_train, return_counts=True)\n",
    "print \"Number of background events = \",dict(zip(unique, counts))[0]\n",
    "print \"Number of signal events     = \",dict(zip(unique, counts))[1]\n",
    "# Create the numpy arrays used for plotting\n",
    "x_sig = np.zeros(dict(zip(unique, counts))[1])\n",
    "x_bkg = np.zeros(dict(zip(unique, counts))[0])\n",
    "fig = plt.figure(1, figsize=(12, 6))\n",
    "nsig = 0\n",
    "nbkg = 0\n",
    "# Loops over the decision fuction and fills the background/signal numpy arrays (used for plotting)\n",
    "# and the ROOT histograms used for finding the optimal cut\n",
    "for i in range(len(dec)):\n",
    "    if Y_train[i] == 0:\n",
    "        x_bkg[nbkg] = dec[i]\n",
    "        h_backgr.Fill(dec[i],W_train[i])\n",
    "        nbkg += 1\n",
    "    else:\n",
    "        x_sig[nsig] = dec[i]\n",
    "        h_signal.Fill(dec[i],W_train[i])\n",
    "        nsig += 1\n",
    "    #print dec[i]\n",
    "binw = 10\n",
    "bins = np.arange(-1000, 10, 10)\n",
    "plt.hist(x_bkg,bins,alpha=0.5,color=\"b\", density=True)\n",
    "plt.hist(x_sig,bins,alpha=0.5,color=\"g\", density=True)\n",
    "plt.xlim(-600,10)\n",
    "plt.yscale(\"log\")\n",
    "plt.show()"
   ]
  },
  {
   "cell_type": "markdown",
   "metadata": {},
   "source": [
    "The cell below loops over the histograms with the decision fuctions for signal and background and calculates the optimal cut to maximize the significance."
   ]
  },
  {
   "cell_type": "code",
   "execution_count": 98,
   "metadata": {},
   "outputs": [
    {
     "name": "stdout",
     "output_type": "stream",
     "text": [
      "Max significance = -5.66 (nbkg = 1472790.35, nsig = 60.14) in bin 99 at value -20.0\n"
     ]
    }
   ],
   "source": [
    "from ROOT import RooStats, Double\n",
    "import math\n",
    "err_sig = Double(0)\n",
    "err_bkg = Double(0)\n",
    "max_sig = -9999\n",
    "max_nsig = -1\n",
    "max_nbkg = -1\n",
    "for i in range(1,h_signal.GetNbinsX()):\n",
    "    #print \"from \",h_signal.GetBinLowEdge(i)\n",
    "    nsig = h_signal.IntegralAndError(i,h_signal.GetNbinsX()+1,err_sig)\n",
    "    nbkg = h_backgr.IntegralAndError(i,h_signal.GetNbinsX()+1,err_bkg)\n",
    "    if nbkg == 0 or nsig == 0: continue \n",
    "    sign = RooStats.NumberCountingUtils.BinomialExpZ(nsig, nbkg,math.sqrt((err_sig*err_sig) + (err_bkg*err_bkg)))\n",
    "    #print nsig, nbkg, sign\n",
    "    if sign > max_sig:\n",
    "        max_sig  = sign\n",
    "        max_nsig = nsig\n",
    "        max_nbkg = nbkg\n",
    "        max_bin  = i\n",
    "print \"Max significance = %.2f (nbkg = %.2f, nsig = %.2f) in bin %i at value %.1f\" %(max_sig,\n",
    "                                                                                   max_nbkg,\n",
    "                                                                                   max_nsig,\n",
    "                                                                                   max_bin,\n",
    "                                                                                   h_signal.GetBinLowEdge(max_bin))"
   ]
  },
  {
   "cell_type": "code",
   "execution_count": 87,
   "metadata": {},
   "outputs": [
    {
     "ename": "SystemError",
     "evalue": "void TH1::Draw(const char* option = \"\") =>\n    problem in C++; program state has been reset",
     "output_type": "error",
     "traceback": [
      "\u001b[0;31m---------------------------------------------------------------------------\u001b[0m",
      "\u001b[0;31mSystemError\u001b[0m                               Traceback (most recent call last)",
      "\u001b[0;32m<ipython-input-87-52dfc81afbd0>\u001b[0m in \u001b[0;36m<module>\u001b[0;34m()\u001b[0m\n\u001b[0;32m----> 1\u001b[0;31m \u001b[0mh_signal\u001b[0m\u001b[0;34m.\u001b[0m\u001b[0mDraw\u001b[0m\u001b[0;34m(\u001b[0m\u001b[0;34m\"hist\"\u001b[0m\u001b[0;34m)\u001b[0m\u001b[0;34m\u001b[0m\u001b[0m\n\u001b[0m",
      "\u001b[0;31mSystemError\u001b[0m: void TH1::Draw(const char* option = \"\") =>\n    problem in C++; program state has been reset"
     ]
    }
   ],
   "source": [
    "\n",
    "                                                     "
   ]
  },
  {
   "cell_type": "code",
   "execution_count": 24,
   "metadata": {},
   "outputs": [
    {
     "name": "stdout",
     "output_type": "stream",
     "text": [
      "('Accuracy:', 0.9018296674587651)\n",
      "('Precision:', 0.717582883603855)\n",
      "('Recall:', 0.5000184499718986)\n"
     ]
    },
    {
     "data": {
      "text/plain": [
       "array([0, 0, 0, ..., 0, 0, 0])"
      ]
     },
     "execution_count": 24,
     "metadata": {},
     "output_type": "execute_result"
    }
   ],
   "source": [
    "#X_test_clean = np.delete(X_test,delitems,1)\n",
    "print_score(X_test_clean, Y_test,logreg)"
   ]
  },
  {
   "cell_type": "code",
   "execution_count": 25,
   "metadata": {},
   "outputs": [
    {
     "name": "stdout",
     "output_type": "stream",
     "text": [
      "Got it right in 0.90 of the cases!\n"
     ]
    }
   ],
   "source": [
    "pred = logreg.predict(X_test_clean)\n",
    "dsid      = np.concatenate((all_var_bkg[:,39],all_var_sig[:,39]),axis=0)\n",
    "#masssplit = np.concatenate((all_var_bkg[:,53],all_var_sig[:,53]),axis=0)\n",
    "wgt       = np.concatenate((W_bkg,W_sig),axis=0)\n",
    "predRight = 0.\n",
    "predWrong = 0.\n",
    "yields    = {}\n",
    "label = np.arange(len(sorted_coeff),dtype='object')\n",
    "for i in range(len(pred)):\n",
    "    if not dsid[i] in yields.keys():\n",
    "        yields[dsid[i]] = {\"nbkg\":0,\"nsig\":0}\n",
    "    if pred[i]: yields[dsid[i]][\"nsig\"] += wgt[i]\n",
    "    else: yields[dsid[i]][\"nbkg\"] += wgt[i]\n",
    "    #print \"Predicted %i, true is %i\" %(pred[i],Y_test[i])\n",
    "    if pred[i] == Y_test[i]:\n",
    "        predRight += 1.\n",
    "    else:\n",
    "        predWrong += 1.\n",
    "print \"Got it right in %.2f of the cases!\" %(predRight/float(i))\n",
    "#print yields"
   ]
  },
  {
   "cell_type": "code",
   "execution_count": null,
   "metadata": {},
   "outputs": [],
   "source": [
    "h_MET_sig = TH1F(\"h_MET_sig\",\"\",100,0,1000)\n",
    "h_MET_bkg = TH1F(\"h_MET_bkg\",\"\",100,0,1000)\n",
    "n = 0\n",
    "for p in pred:\n",
    "    if p == 0:\n",
    "        h_MET_bkg.Fill(X_test[n][19]/1000.)\n",
    "    if p == 1:\n",
    "        h_MET_sig.Fill(X_test[n][19]/1000.)\n",
    "    n += 1\n",
    "    \n",
    "canvas_6 = TCanvas(\"canvas_6\",\"canvas_6\",1)\n",
    "h_MET_sig.SetLineColor(kRed)\n",
    "h_MET_bkg.Draw(\"hist\")\n",
    "h_MET_sig.Draw(\"same hist\")\n",
    "canvas_6.SetLogy()\n",
    "canvas_6.Draw()"
   ]
  },
  {
   "cell_type": "code",
   "execution_count": 44,
   "metadata": {},
   "outputs": [
    {
     "data": {
      "text/plain": [
       "LogisticRegression(C=100000.0, class_weight=None, dual=False,\n",
       "          fit_intercept=True, intercept_scaling=1, max_iter=200,\n",
       "          multi_class='warn', n_jobs=None, penalty='l2', random_state=None,\n",
       "          solver='warn', tol=0.0001, verbose=0, warm_start=False)"
      ]
     },
     "execution_count": 44,
     "metadata": {},
     "output_type": "execute_result"
    }
   ],
   "source": [
    "X_train_agr = np.delete(X_train,delitems_agr,1)\n",
    "X_test_agr = np.delete(X_test,delitems_agr,1)\n",
    "logreg.fit(X_train_agr, Y_train.ravel(),W_train)\n"
   ]
  },
  {
   "cell_type": "code",
   "execution_count": 45,
   "metadata": {},
   "outputs": [
    {
     "name": "stdout",
     "output_type": "stream",
     "text": [
      "('Accuracy:', 0.9018326938818806)\n",
      "('Precision:', 0.4509163469409403)\n",
      "('Recall:', 0.5)\n"
     ]
    }
   ],
   "source": [
    "pred = print_score(X_train_agr, Y_train,logreg)"
   ]
  },
  {
   "cell_type": "code",
   "execution_count": 56,
   "metadata": {},
   "outputs": [],
   "source": [
    "def plot_boundary(X,y,degree,logreg):\n",
    "    x_min, x_max = X[:, 0].min(), X[:, 0].max()\n",
    "    y_min, y_max = X[:, 1].min(), X[:, 1].max()\n",
    "    print \"x_min = \",x_min\n",
    "    print \"x_max = \",x_max\n",
    "    print \"y_min = \",y_min\n",
    "    print \"y_max = \",y_max\n",
    "    h = 10000  # step size in the mesh\n",
    "    xx, yy = np.meshgrid(np.arange(x_min, x_max, h), np.arange(y_min, y_max, h))\n",
    "    Z = logreg.predict(np.c_[xx.ravel(), yy.ravel()])\n",
    "    #xs, ys = np.meshgrid(np.linspace(x_min, x_max, 200),np.linspace(y_min, y_max, 200))\n",
    "    #xys = mapFeature(xs.ravel(),ys.ravel(),degree)\n",
    "    #print(xys.shape)\n",
    "    Z = Z.reshape(xx.shape)\n",
    "    plt.figure(1, figsize=(4, 3))\n",
    "    plt.pcolormesh(xx, yy, Z, cmap=plt.cm.Paired)\n",
    "    \n",
    "    # Plot also the training points\n",
    "    plt.scatter(X[:, 0], X[:, 1], c=y, edgecolors='k', cmap=plt.cm.Paired)\n",
    "    plt.xlabel('Sepal length')\n",
    "    plt.ylabel('Sepal width')\n",
    "\n",
    "    plt.xlim(xx.min(), xx.max())\n",
    "    plt.ylim(yy.min(), yy.max())\n",
    "    plt.xticks(())\n",
    "    plt.yticks(())\n",
    "\n",
    "    plt.show()\n",
    "    #plt.pcolormesh(xs, ys, Z, cmap=plt.cm.Paired)\n",
    "    #plt.scatter(X[:, 1], X[:, 2], c=Y, edgecolors='k', cmap=plt.cm.Paired)\n",
    "    #plt.xlim(xs.min(), xs.max())\n",
    "    #plt.ylim(ys.min(), ys.max())\n",
    "    #plt.xticks(())\n",
    "    #plt.yticks(())\n",
    "    return plt"
   ]
  },
  {
   "cell_type": "code",
   "execution_count": 49,
   "metadata": {},
   "outputs": [],
   "source": [
    "def mapFeature(X1, X2, degree):\n",
    "    out = np.ones(( X1.shape[0], sum(range(degree + 2)) )) # could also use ((degree+1) * (degree+2)) / 2 instead of sum\n",
    "    curr_column = 1\n",
    "    for i in range(1, degree + 1):\n",
    "        for j in range(i+1):\n",
    "            out[:,curr_column] = np.power(X1,i-j) * np.power(X2,j)\n",
    "            curr_column += 1\n",
    "    return out"
   ]
  },
  {
   "cell_type": "code",
   "execution_count": null,
   "metadata": {},
   "outputs": [],
   "source": [
    "print X_test_clean[:,:2]"
   ]
  },
  {
   "cell_type": "code",
   "execution_count": 57,
   "metadata": {},
   "outputs": [
    {
     "name": "stdout",
     "output_type": "stream",
     "text": [
      "x_min =  27.617568969726562\n",
      "x_max =  70030784.0\n",
      "y_min =  80.510986328125\n",
      "y_max =  5304406.5\n"
     ]
    },
    {
     "data": {
      "image/png": "[encoded data removed]",
      "text/plain": [
       "<Figure size 288x216 with 1 Axes>"
      ]
     },
     "metadata": {},
     "output_type": "display_data"
    },
    {
     "data": {
      "image/png": "[encoded data removed]",
      "text/plain": [
       "<Figure size 432x288 with 1 Axes>"
      ]
     },
     "metadata": {
      "needs_background": "light"
     },
     "output_type": "display_data"
    }
   ],
   "source": [
    "import matplotlib.pyplot as plt\n",
    "plt=plot_boundary(X_test_agr,Y_test,degree,logreg)\n",
    "plt.xlabel('X1')\n",
    "plt.ylabel('X2')\n",
    "plt.show()"
   ]
  },
  {
   "cell_type": "code",
   "execution_count": 27,
   "metadata": {},
   "outputs": [
    {
     "data": {
      "text/plain": [
       "array([[37428.69921875, 25036.35351562],\n",
       "       [68546.2734375 , 32539.0625    ],\n",
       "       [25995.76757812, 17091.44140625],\n",
       "       ...,\n",
       "       [46218.00390625, 45153.94921875],\n",
       "       [36841.99609375, 24861.45507812],\n",
       "       [38124.8125    , 24685.95703125]])"
      ]
     },
     "execution_count": 27,
     "metadata": {},
     "output_type": "execute_result"
    }
   ],
   "source": [
    "X_test_clean[:,:2]"
   ]
  },
  {
   "cell_type": "code",
   "execution_count": null,
   "metadata": {},
   "outputs": [],
   "source": []
  }
 ],
 "metadata": {
  "kernelspec": {
   "display_name": "Python 2",
   "language": "python",
   "name": "python2"
  },
  "language_info": {
   "codemirror_mode": {
    "name": "ipython",
    "version": 2
   },
   "file_extension": ".py",
   "mimetype": "text/x-python",
   "name": "python",
   "nbconvert_exporter": "python",
   "pygments_lexer": "ipython2",
   "version": "2.7.15"
  }
 },
 "nbformat": 4,
 "nbformat_minor": 2
}

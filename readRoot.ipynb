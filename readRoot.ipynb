{
 "cells": [
  {
   "cell_type": "code",
   "execution_count": null,
   "metadata": {},
   "outputs": [],
   "source": [
    "%matplotlib inline\n",
    "import numpy as np\n",
    "import sys\n",
    "import math\n",
    "from sklearn.preprocessing import Imputer\n",
    "import h5py\n",
    "import matplotlib.pyplot as plt\n",
    "import pandas as pd\n",
    "import os\n",
    "from os import listdir\n",
    "from os.path import isfile, join\n",
    "#import feather"
   ]
  },
  {
   "cell_type": "code",
   "execution_count": null,
   "metadata": {},
   "outputs": [],
   "source": [
    "import helperFunc as hf"
   ]
  },
  {
   "cell_type": "code",
   "execution_count": null,
   "metadata": {},
   "outputs": [],
   "source": [
    "from ROOT import gROOT, gDirectory, TFile, TEventList, TCut, TH1F, TH2F, TCanvas, kRed\n",
    "from root_numpy import tree2array, root2array\n",
    "%jsroot on"
   ]
  },
  {
   "cell_type": "code",
   "execution_count": null,
   "metadata": {},
   "outputs": [],
   "source": [
    "indir  = \"/scratch3/eirikgr/2L0JNtuples/FCLoose-HighPt-21-2-58/statonly/\"\n",
    "outdir = \"/scratch3/eirikgr/ML_files/2L0J/\""
   ]
  },
  {
   "cell_type": "markdown",
   "metadata": {},
   "source": [
    "Convert ROOT ntuples to h5 files."
   ]
  },
  {
   "cell_type": "code",
   "execution_count": null,
   "metadata": {},
   "outputs": [],
   "source": [
    "susyFeaturesNtup = []\n",
    "h5files = []\n",
    "for mc in [\"newMC16D\"]:#[\"newMC16A\"]:#,\"newMC16D\",\"newMC16E\"]:\n",
    "    mypath = indir+mc+\"/\"\n",
    "    onlyfiles = [f for f in listdir(mypath) if isfile(join(mypath, f))]\n",
    "    nf = 0\n",
    "    for f in onlyfiles:\n",
    "        print \"Loading file %s\" %f\n",
    "        if not f.endswith(\".root\"): continue\n",
    "        tf = TFile(mypath+f)\n",
    "        keyList = [key.GetName() for key in tf.GetListOfKeys()]\n",
    "        ntree = 0\n",
    "        for key in keyList:\n",
    "            obj = tf.Get(key)\n",
    "            outPathDir = \"%s/%s\"%(outdir,mc)\n",
    "            if not os.path.exists(outPathDir):\n",
    "                print \"Creating path %s\"%outPathDir\n",
    "                os.makedirs(outPathDir)\n",
    "            filePath = \"%s/%s_%s_%s\"%(outPathDir,f.replace(\".root\",\"\"),key,mc)\n",
    "            if os.path.exists(\"%s.h5\"%filePath):\n",
    "                os.remove(\"%s.h5\"%filePath)\n",
    "            if len(susyFeaturesNtup) == 0: \n",
    "                susyFeaturesNtup = hf.getListOfBranches(obj,1)\n",
    "            hf.writeArrays(mypath+f, key, susyFeaturesNtup, filePath,\"\", 100000)\n",
    "            ntree += 1\n",
    "        nf += 1"
   ]
  },
  {
   "cell_type": "markdown",
   "metadata": {},
   "source": [
    "Loop over the h5 files from above and create pandas which are merged in to on big panda. It is also adding an additional column which is 0 for background samples and 1 for signal samples."
   ]
  },
  {
   "cell_type": "code",
   "execution_count": null,
   "metadata": {
    "scrolled": true
   },
   "outputs": [],
   "source": [
    "frames = []\n",
    "#df = {}\n",
    "n = 0\n",
    "outdir += \"/newMC16D\"\n",
    "for f in listdir(outdir):\n",
    "    if n%10 == 0: print \"Doing %i/%i\" %(n,len(listdir(outdir)))\n",
    "    #if \"OthersWithoutHiggs_Others_central\" in f: continue\n",
    "    #if not \"data\" in f: continue\n",
    "    if f.startswith(\"all\"): continue\n",
    "    if not isfile(join(outdir, f)) or not f.endswith(\".h5\"): \n",
    "        continue\n",
    "    h5f = outdir+\"/\"+f\n",
    "    print h5f\n",
    "    eventFile = h5py.File(h5f,\"r\")\n",
    "    key = eventFile.keys()[0] #\"_\".join(h5f.split(\"_\")[-3:-1])\n",
    "    #print key\n",
    "    df = pd.DataFrame(np.copy(eventFile[key]),columns=eventFile.attrs[\"var_names\"])\n",
    "    sLength = len(df['DSID'])\n",
    "    if \"C1C1\" in h5f or \"SlepSlep\" in h5f:\n",
    "        descr = np.chararray(sLength,itemsize=50)\n",
    "        descr[:] = \"_\".join(f.split(\"_\")[-6:-2])\n",
    "        #print \"_\".join(f.split(\"_\")[-6:-2])\n",
    "        df[\"isSignal\"] = pd.Series(np.ones(sLength), index=df.index, dtype='int')\n",
    "        df[\"MCtype\"]   = pd.Series(descr, index=df.index, dtype='string')\n",
    "    elif \"data\" in f:\n",
    "        descr = f.split(\"_\")[0]\n",
    "    else:\n",
    "        #print \"Background \",f\n",
    "        descrkey = \"\"\n",
    "        for sp in f.split(\"_\"):\n",
    "            if \"central\" in sp: break\n",
    "            descrkey += \"%s_\" %sp\n",
    "        descrkey = descrkey[:-1]\n",
    "        descr = np.chararray(sLength,itemsize=50)\n",
    "        descr[:] = descrkey\n",
    "        #print \"_\".join(f.split(\"_\")[-5:-3])\n",
    "        df[\"isSignal\"] = pd.Series(np.zeros(sLength), index=df.index,dtype='int')\n",
    "        df[\"MCtype\"]   = pd.Series(descr, index=df.index, dtype='string')\n",
    "        #break\n",
    "    if n == 0: result = df\n",
    "    else: result = pd.concat([result,df])\n",
    "    n += 1\n",
    "    #break\n",
    "#eventFile_bkg = h5py.File(outdir+\"/Singletop_Singletop_central_newMC16A.h5\",\"r\")\n",
    "#df2 = pd.DataFrame(np.copy(eventFile_bkg['Singletop_central']),columns =eventFile_bkg.attrs[\"var_names\"])\n",
    "\n",
    "#df = pd.concat([df1,df2])\n",
    "#df = pd.DataFrame(eventFile_bkg.attrs[\"var_names\"],index=data[:,0]),\n",
    "#test = pd.read_hdf(outdir+\"/OthersWithoutHiggs_Others_central_newMC16A.h5\",'Others_central'\n",
    "#print(df.dtypes)"
   ]
  },
  {
   "cell_type": "code",
   "execution_count": null,
   "metadata": {},
   "outputs": [],
   "source": [
    "descr"
   ]
  },
  {
   "cell_type": "code",
   "execution_count": null,
   "metadata": {},
   "outputs": [],
   "source": [
    "print result"
   ]
  },
  {
   "cell_type": "code",
   "execution_count": null,
   "metadata": {},
   "outputs": [],
   "source": [
    "path = outdir+\"/all_bkg_sig.h5\"\n",
    "#feather.write_dataframe(result, path)\n",
    "result.to_hdf(path,key='result', mode='w')"
   ]
  },
  {
   "cell_type": "code",
   "execution_count": null,
   "metadata": {},
   "outputs": [],
   "source": [
    "path = outdir+\"/all_data.h5\"\n",
    "#feather.write_dataframe(result, path)\n",
    "result.to_hdf(path,key='result', mode='w')"
   ]
  },
  {
   "cell_type": "code",
   "execution_count": null,
   "metadata": {},
   "outputs": [],
   "source": [
    "bkgdf = result.loc[result['isSignal'] == 0]\n",
    "bkgs = np.unique(bkgdf.iloc[:,[-1]].as_matrix())\n",
    "print bkgs"
   ]
  },
  {
   "cell_type": "code",
   "execution_count": null,
   "metadata": {},
   "outputs": [],
   "source": [
    "# Inspect some (or all...) of the columns using the names printed in the above cell\n",
    "variable = 'MET' \n",
    "df2 = bkgdf.groupby([variable,\"MCtype\"])[variable].count().unstack('MCtype').fillna(0)\n",
    "#df2[['abuse','nff']].plot(kind='bar', stacked=True)\n",
    "#print df.loc[df[variable].idxmax()]\n",
    "#print df[variable].idxmax()\n",
    "#df = df.drop(df[variable].idxmax())\n",
    "#print df[variable].idxmax()\n",
    "#print df.loc[df[variable].idxmax()]\n",
    "#print df.loc[df[variable].idxmax()]\n",
    "#print df.loc[df[variable] < 1000000\n",
    "#print df[variable].div(1000)\n",
    "#hist = df.loc[df[variable] < 1000000][variable].div(1000).hist(bins=1000,facecolor='red')\n",
    "#hist.set_xlabel(variable)\n",
    "#plt.yscale(\"log\")\n",
    "#plt.show()"
   ]
  },
  {
   "cell_type": "code",
   "execution_count": null,
   "metadata": {},
   "outputs": [],
   "source": [
    "df2[bkgs].plot(kind='bar', stacked=True)"
   ]
  },
  {
   "cell_type": "code",
   "execution_count": null,
   "metadata": {},
   "outputs": [],
   "source": []
  }
 ],
 "metadata": {
  "kernelspec": {
   "display_name": "Python 2",
   "language": "python",
   "name": "python2"
  },
  "language_info": {
   "codemirror_mode": {
    "name": "ipython",
    "version": 2
   },
   "file_extension": ".py",
   "mimetype": "text/x-python",
   "name": "python",
   "nbconvert_exporter": "python",
   "pygments_lexer": "ipython2",
   "version": "2.7.16"
  }
 },
 "nbformat": 4,
 "nbformat_minor": 2
}
